{
 "cells": [
  {
   "cell_type": "markdown",
   "metadata": {},
   "source": [
    "# Тематическая классификация длинных текстов - TFIDF и LogReg"
   ]
  },
  {
   "cell_type": "markdown",
   "metadata": {},
   "source": [
    "## Краткие выводы по проведенным экспериментам\n",
    "\n",
    "### Пайплайн-чемпион (для кастомной реализации TF-IDF и LogReg): \n",
    "(Stop word Removal + Lemmatizing) + TF-IDF (custom) + MinMaxScaler (sklearn) + LogReg (custom) + Adagrad + L2\n",
    "\n",
    "### Оценка качества для лучшего пайплайна:\n",
    " - среднее значение функции потерь на обучении: 0.20902366936206818\n",
    " - доля верных ответов на обучении: 0.9983206646632491\n",
    " - среднее значение функции потерь на валидации: 0.8890098929405212\n",
    " - доля верных ответов на валидации: 0.8113382899628253\n",
    "\n",
    "### Резюме:\n",
    "\n",
    "1) Оптимальные варианты взвешивания — TF и TF-IDF. BIN, IDF дали более низкие значения оценки качества. \\\n",
    "2) Реализовал взвешивание с PMI (также попробовал TF-PMI): качество на тестовой выборке стало лучше. \\\n",
    "3) Лучший скейлер для задачи — MinMaxScaler. StandardScaler, RobustScaler показали себя хуже. В основном использовался MinMaxScaler из sklearn, т.к. кастомный реализован некорректно (min и max значения должны браться из тренировочной выборке и далее использоваться как на тренировочной, так и на тестовой). \\\n",
    "4) Добавление L2-регуляризации позволило избежать переобучения модели. \\\n",
    "5) Для препроцессинга использовались следующие методы: удаление стоп-слов, стемминг, лемматизация, тегирование именнованных сущностей, удаление именнованных сущностей. Лучше всего себя показали удаление стоп-слов и лемматизация. \\\n",
    "6) Попробовал вместо LogReg использовать MLP. В качестве функции активации попробовал и сигмоиду и ReLU, сигмоида показала себя лучше (accuracy немного увеличилось, но модель переобучается даже с регуляризацией). При использовании ReLU получилось довольно низкое качество на тестовой выборке. \\\n",
    "7) Были испробованы различные оптимизаторы: Adam, Adagrad, Adadelta, SGD, RMSprop. Лучше всех себя показали Adagrad и SGD. \\\n",
    "8) Извлечение признаков из N-грамм, ngram_range=(1,2): accuracy незначительно увеличилось, но модель переобучается даже с регуляризацией. \\\n",
    "9) Подкорректировал MIN_COUNT и MAX_DF (MAX_DF = 0.8 и MIN_COUNT = 4), извлекал признаки из N-грамм с диапазоном (1,2): accuracy незначительно увеличилось, но модель переобучается даже с регуляризацией. \\\n",
    "10) Модернизировал реализацию TF и IDF (и соответственно TF-IDF): добавил возможность использования сублинейного преобразования (sublinear_tf: bool, sublinear_df: bool). Но при использовании данных режимов при расчете матрицы признаков accuracy значительно снижается."
   ]
  },
  {
   "cell_type": "code",
   "execution_count": 1,
   "metadata": {},
   "outputs": [],
   "source": [
    "# Если Вы запускаете ноутбук на colab или kaggle,\n",
    "# выполните следующие строчки, чтобы подгрузить библиотеку dlnlputils:\n",
    "\n",
    "# !git clone https://github.com/arturburiev/stepik-dl-nlp.git && pip install -r stepik-dl-nlp/requirements.txt\n",
    "# import sys; sys.path.append('./stepik-dl-nlp')"
   ]
  },
  {
   "cell_type": "code",
   "execution_count": 2,
   "metadata": {
    "ExecuteTime": {
     "end_time": "2019-09-12T12:42:57.265628Z",
     "start_time": "2019-09-12T12:42:55.188211Z"
    },
    "scrolled": true
   },
   "outputs": [
    {
     "name": "stderr",
     "output_type": "stream",
     "text": [
      "[nltk_data] Downloading package omw-1.4 to\n",
      "[nltk_data]     /Users/arturburiev/nltk_data...\n",
      "[nltk_data]   Package omw-1.4 is already up-to-date!\n"
     ]
    }
   ],
   "source": [
    "import warnings\n",
    "\n",
    "warnings.filterwarnings(\"ignore\")\n",
    "\n",
    "import scipy.sparse\n",
    "from sklearn.datasets import fetch_20newsgroups\n",
    "from sklearn.metrics import accuracy_score\n",
    "from sklearn.preprocessing import MinMaxScaler\n",
    "from sklearn.preprocessing import StandardScaler\n",
    "from sklearn.preprocessing import RobustScaler\n",
    "\n",
    "import numpy as np\n",
    "\n",
    "import matplotlib.pyplot as plt\n",
    "\n",
    "%matplotlib inline\n",
    "\n",
    "import collections\n",
    "\n",
    "import torch\n",
    "from torch import nn\n",
    "from torch.nn import functional as F\n",
    "\n",
    "import dlnlputils\n",
    "from dlnlputils.data import (\n",
    "    tokenize_text_simple_regex,\n",
    "    tokenize_corpus,\n",
    "    generate_tokens_n_grams,\n",
    "    build_vocabulary,\n",
    "    calc_counter_matrix,\n",
    "    calc_pmi,\n",
    "    vectorize_texts,\n",
    "    NER_preprocessing,\n",
    "    spellchecking_preprocessing,\n",
    "    stopword_removing_preprocessing,\n",
    "    stemming_preprocessing,\n",
    "    lemmatizing_preprocessing,\n",
    "    SparseFeaturesDataset,\n",
    ")\n",
    "from dlnlputils.pipeline import train_eval_loop, predict_with_model, init_random_seed\n",
    "\n",
    "init_random_seed()"
   ]
  },
  {
   "cell_type": "markdown",
   "metadata": {},
   "source": [
    "## Предобработка текстов и подготовка признаков"
   ]
  },
  {
   "cell_type": "code",
   "execution_count": 3,
   "metadata": {
    "ExecuteTime": {
     "end_time": "2019-09-12T12:42:57.847399Z",
     "start_time": "2019-09-12T12:42:57.268037Z"
    },
    "scrolled": true
   },
   "outputs": [
    {
     "name": "stdout",
     "output_type": "stream",
     "text": [
      "Количество обучающих текстов 11314\n",
      "Количество тестовых текстов 7532\n",
      "\n",
      "From: lerxst@wam.umd.edu (where's my thing)\n",
      "Subject: WHAT car is this!?\n",
      "Nntp-Posting-Host: rac3.wam.umd.edu\n",
      "Organization: University of Maryland, College Park\n",
      "Lines: 15\n",
      "\n",
      " I was wondering if anyone out there could enlighten me on this car I saw\n",
      "the other day. It was a 2-door sports car, looked to be from the late 60s/\n",
      "early 70s. It was called a Bricklin. The doors were really small. In addition,\n",
      "the front bumper was separate from the rest of the body. This is \n",
      "all I know. If anyone can tellme a model name, engine specs, years\n",
      "of production, where this car is made, history, or whatever info you\n",
      "have on this funky looking car, please e-mail.\n",
      "\n",
      "Thanks,\n",
      "- IL\n",
      "   ---- brought to you by your neighborhood Lerxst ----\n",
      "\n",
      "Метка 7\n"
     ]
    }
   ],
   "source": [
    "train_source = fetch_20newsgroups(subset=\"train\")\n",
    "test_source = fetch_20newsgroups(subset=\"test\")\n",
    "\n",
    "print(\"Количество обучающих текстов\", len(train_source[\"data\"]))\n",
    "print(\"Количество тестовых текстов\", len(test_source[\"data\"]))\n",
    "print()\n",
    "print(train_source[\"data\"][0].strip())\n",
    "\n",
    "print()\n",
    "print(\"Метка\", train_source[\"target\"][0])"
   ]
  },
  {
   "cell_type": "markdown",
   "metadata": {},
   "source": [
    "### Подготовка признаков"
   ]
  },
  {
   "cell_type": "code",
   "execution_count": 4,
   "metadata": {},
   "outputs": [],
   "source": [
    "# train_source[\"data\"] = NER_preprocessing(train_source[\"data\"])\n",
    "# test_source[\"data\"] = NER_preprocessing(test_source[\"data\"])"
   ]
  },
  {
   "cell_type": "code",
   "execution_count": 5,
   "metadata": {
    "ExecuteTime": {
     "end_time": "2019-09-12T12:43:00.294422Z",
     "start_time": "2019-09-12T12:42:57.849386Z"
    }
   },
   "outputs": [
    {
     "name": "stdout",
     "output_type": "stream",
     "text": [
      "from lerxst where thing subject what this nntp posting host rac3 organization university maryland college park lines wondering anyone there could enlighten this other door sports looked from late early called bricklin doors were really small addition front bumper separate from rest body this know anyone tellme model name engine specs years production where this made history whatever info have this funky looking please mail thanks brought your neighborhood lerxst\n"
     ]
    }
   ],
   "source": [
    "train_tokenized = tokenize_corpus(train_source[\"data\"])\n",
    "test_tokenized = tokenize_corpus(test_source[\"data\"])\n",
    "\n",
    "print(\" \".join(train_tokenized[0]))"
   ]
  },
  {
   "cell_type": "markdown",
   "metadata": {},
   "source": [
    "#### Генерация N-грамм токенов"
   ]
  },
  {
   "cell_type": "code",
   "execution_count": 6,
   "metadata": {},
   "outputs": [],
   "source": [
    "NGRAM_RANGE = None\n",
    "\n",
    "if NGRAM_RANGE is not None:\n",
    "    train_tokenized = [\n",
    "        generate_tokens_n_grams(tokenized_text, NGRAM_RANGE)\n",
    "        for tokenized_text in train_tokenized\n",
    "    ]\n",
    "\n",
    "    test_tokenized = [\n",
    "        generate_tokens_n_grams(tokenized_text, NGRAM_RANGE)\n",
    "        for tokenized_text in test_tokenized\n",
    "    ]"
   ]
  },
  {
   "cell_type": "code",
   "execution_count": 7,
   "metadata": {},
   "outputs": [],
   "source": [
    "MAX_DF = 0.8\n",
    "MIN_COUNT = 5"
   ]
  },
  {
   "cell_type": "code",
   "execution_count": 8,
   "metadata": {
    "ExecuteTime": {
     "end_time": "2019-09-12T12:43:00.825372Z",
     "start_time": "2019-09-12T12:43:00.297392Z"
    }
   },
   "outputs": [
    {
     "name": "stdout",
     "output_type": "stream",
     "text": [
      "Количество уникальных токенов 21628\n",
      "[('that', 0), ('this', 1), ('have', 2), ('with', 3), ('writes', 4), ('article', 5), ('posting', 6), ('host', 7), ('nntp', 8), ('there', 9)]\n"
     ]
    }
   ],
   "source": [
    "vocabulary, word_doc_freq = build_vocabulary(\n",
    "    train_tokenized, max_doc_freq=MAX_DF, min_count=MIN_COUNT, sublinear_df=False, smooth_df=False\n",
    ")\n",
    "UNIQUE_WORDS_N = len(vocabulary)\n",
    "print(\"Количество уникальных токенов\", UNIQUE_WORDS_N)\n",
    "print(list(vocabulary.items())[:10])"
   ]
  },
  {
   "cell_type": "code",
   "execution_count": 9,
   "metadata": {
    "ExecuteTime": {
     "end_time": "2019-09-12T12:43:01.524600Z",
     "start_time": "2019-09-12T12:43:00.829107Z"
    }
   },
   "outputs": [
    {
     "data": {
      "image/png": "[encoded data removed]",
      "text/plain": [
       "<Figure size 432x288 with 1 Axes>"
      ]
     },
     "metadata": {
      "needs_background": "light"
     },
     "output_type": "display_data"
    }
   ],
   "source": [
    "plt.hist(word_doc_freq, bins=20)\n",
    "plt.title(\"Распределение относительных частот слов\")\n",
    "plt.yscale(\"log\")"
   ]
  },
  {
   "cell_type": "markdown",
   "metadata": {},
   "source": [
    "#### Применение остальных препроцессоров"
   ]
  },
  {
   "cell_type": "code",
   "execution_count": 10,
   "metadata": {},
   "outputs": [],
   "source": [
    "preprocessors_for_applying = [\n",
    "#     spellchecking_preprocessing,\n",
    "    stopword_removing_preprocessing,\n",
    "    lemmatizing_preprocessing,\n",
    "#     stemming_preprocessing,\n",
    "]\n",
    "\n",
    "\n",
    "def apply_preprocessors(preprocessors, text_data):\n",
    "    for prep in preprocessors_for_applying:\n",
    "        text_data = prep(text_data)\n",
    "\n",
    "    return text_data\n",
    "\n",
    "\n",
    "train_tokenized = apply_preprocessors(preprocessors_for_applying, train_tokenized)\n",
    "test_tokenized = apply_preprocessors(preprocessors_for_applying, test_tokenized)"
   ]
  },
  {
   "cell_type": "code",
   "execution_count": 11,
   "metadata": {
    "ExecuteTime": {
     "end_time": "2019-09-12T12:44:16.094816Z",
     "start_time": "2019-09-12T12:43:01.526554Z"
    }
   },
   "outputs": [],
   "source": [
    "VECTORIZATION_MODE = \"tfidf\"\n",
    "\n",
    "train_counter_matrix = calc_counter_matrix(train_tokenized, vocabulary)\n",
    "pmi_vec = (\n",
    "    calc_pmi(train_counter_matrix, train_source[\"target\"])\n",
    "    if VECTORIZATION_MODE in (\"tfpmi\", \"pmi\")\n",
    "    else None\n",
    ")\n",
    "train_vectors = vectorize_texts(\n",
    "    train_counter_matrix, word_doc_freq, pmi_vec, mode=VECTORIZATION_MODE, sublinear_tf=False, scale=False\n",
    ")\n",
    "\n",
    "test_counter_matrix = calc_counter_matrix(test_tokenized, vocabulary)\n",
    "test_vectors = vectorize_texts(\n",
    "    test_counter_matrix, word_doc_freq, pmi_vec, mode=VECTORIZATION_MODE, sublinear_tf=False, scale=False\n",
    ")"
   ]
  },
  {
   "cell_type": "markdown",
   "metadata": {},
   "source": [
    "#### Стандартизация с sklearn"
   ]
  },
  {
   "cell_type": "code",
   "execution_count": 12,
   "metadata": {},
   "outputs": [],
   "source": [
    "scaler = MinMaxScaler()\n",
    "train_vectors = scipy.sparse.csr_matrix(scaler.fit_transform(train_vectors.toarray()))\n",
    "test_vectors = scipy.sparse.csr_matrix(scaler.transform(test_vectors.toarray()))"
   ]
  },
  {
   "cell_type": "code",
   "execution_count": 13,
   "metadata": {},
   "outputs": [
    {
     "name": "stdout",
     "output_type": "stream",
     "text": [
      "Размерность матрицы признаков обучающей выборки (11314, 21628)\n",
      "Размерность матрицы признаков тестовой выборки (7532, 21628)\n",
      "\n",
      "Количество ненулевых элементов в обучающей выборке 957877\n",
      "Процент заполненности матрицы признаков 0.39%\n",
      "\n",
      "Количество ненулевых элементов в тестовой выборке 611286\n",
      "Процент заполненности матрицы признаков 0.38%\n"
     ]
    }
   ],
   "source": [
    "print(\"Размерность матрицы признаков обучающей выборки\", train_vectors.shape)\n",
    "print(\"Размерность матрицы признаков тестовой выборки\", test_vectors.shape)\n",
    "print()\n",
    "print(\"Количество ненулевых элементов в обучающей выборке\", train_vectors.nnz)\n",
    "print(\n",
    "    \"Процент заполненности матрицы признаков {:.2f}%\".format(\n",
    "        train_vectors.nnz * 100 / (train_vectors.shape[0] * train_vectors.shape[1])\n",
    "    )\n",
    ")\n",
    "print()\n",
    "print(\"Количество ненулевых элементов в тестовой выборке\", test_vectors.nnz)\n",
    "print(\n",
    "    \"Процент заполненности матрицы признаков {:.2f}%\".format(\n",
    "        test_vectors.nnz * 100 / (test_vectors.shape[0] * test_vectors.shape[1])\n",
    "    )\n",
    ")"
   ]
  },
  {
   "cell_type": "markdown",
   "metadata": {},
   "source": [
    "### Распределение весов признаков"
   ]
  },
  {
   "cell_type": "code",
   "execution_count": 14,
   "metadata": {
    "ExecuteTime": {
     "end_time": "2019-09-12T12:44:16.857114Z",
     "start_time": "2019-09-12T12:44:16.098773Z"
    }
   },
   "outputs": [
    {
     "data": {
      "image/png": "[encoded data removed]",
      "text/plain": [
       "<Figure size 432x288 with 1 Axes>"
      ]
     },
     "metadata": {
      "needs_background": "light"
     },
     "output_type": "display_data"
    }
   ],
   "source": [
    "plt.hist(train_vectors.data, bins=20)\n",
    "plt.title(\"Распределение весов признаков\")\n",
    "plt.yscale(\"log\")"
   ]
  },
  {
   "cell_type": "markdown",
   "metadata": {},
   "source": [
    "### Распределение классов"
   ]
  },
  {
   "cell_type": "code",
   "execution_count": 15,
   "metadata": {
    "ExecuteTime": {
     "end_time": "2019-09-12T12:44:16.864960Z",
     "start_time": "2019-09-12T12:44:16.859476Z"
    }
   },
   "outputs": [
    {
     "name": "stdout",
     "output_type": "stream",
     "text": [
      "Количество уникальных меток 20\n"
     ]
    }
   ],
   "source": [
    "UNIQUE_LABELS_N = len(set(train_source[\"target\"]))\n",
    "print(\"Количество уникальных меток\", UNIQUE_LABELS_N)"
   ]
  },
  {
   "cell_type": "code",
   "execution_count": 16,
   "metadata": {
    "ExecuteTime": {
     "end_time": "2019-09-12T12:44:17.106036Z",
     "start_time": "2019-09-12T12:44:16.867310Z"
    }
   },
   "outputs": [
    {
     "data": {
      "text/plain": [
       "Text(0.5, 1.0, 'Распределение меток в обучающей выборке')"
      ]
     },
     "execution_count": 16,
     "metadata": {},
     "output_type": "execute_result"
    },
    {
     "data": {
      "image/png": "[encoded data removed]",
      "text/plain": [
       "<Figure size 432x288 with 1 Axes>"
      ]
     },
     "metadata": {
      "needs_background": "light"
     },
     "output_type": "display_data"
    }
   ],
   "source": [
    "plt.hist(train_source[\"target\"], bins=np.arange(0, 21))\n",
    "plt.title(\"Распределение меток в обучающей выборке\")"
   ]
  },
  {
   "cell_type": "code",
   "execution_count": 17,
   "metadata": {
    "ExecuteTime": {
     "end_time": "2019-09-12T12:44:17.312198Z",
     "start_time": "2019-09-12T12:44:17.109884Z"
    },
    "scrolled": true
   },
   "outputs": [
    {
     "data": {
      "text/plain": [
       "Text(0.5, 1.0, 'Распределение меток в тестовой выборке')"
      ]
     },
     "execution_count": 17,
     "metadata": {},
     "output_type": "execute_result"
    },
    {
     "data": {
      "image/png": "[encoded data removed]",
      "text/plain": [
       "<Figure size 432x288 with 1 Axes>"
      ]
     },
     "metadata": {
      "needs_background": "light"
     },
     "output_type": "display_data"
    }
   ],
   "source": [
    "plt.hist(test_source[\"target\"], bins=np.arange(0, 21))\n",
    "plt.title(\"Распределение меток в тестовой выборке\")"
   ]
  },
  {
   "cell_type": "markdown",
   "metadata": {},
   "source": [
    "### PyTorch Dataset"
   ]
  },
  {
   "cell_type": "code",
   "execution_count": 18,
   "metadata": {
    "ExecuteTime": {
     "end_time": "2019-09-12T12:44:17.319292Z",
     "start_time": "2019-09-12T12:44:17.315074Z"
    }
   },
   "outputs": [],
   "source": [
    "train_dataset = SparseFeaturesDataset(train_vectors, train_source[\"target\"])\n",
    "test_dataset = SparseFeaturesDataset(test_vectors, test_source[\"target\"])"
   ]
  },
  {
   "cell_type": "markdown",
   "metadata": {},
   "source": [
    "## Обучение модели на PyTorch"
   ]
  },
  {
   "cell_type": "code",
   "execution_count": 19,
   "metadata": {},
   "outputs": [],
   "source": [
    "class MLP(torch.nn.Module):\n",
    "    def __init__(self, vocab_size, num_of_labels):\n",
    "        super().__init__()\n",
    "        self.layers = nn.Sequential(\n",
    "            torch.nn.Linear(vocab_size, 100),\n",
    "            torch.nn.Sigmoid(),\n",
    "            torch.nn.Linear(100, num_of_labels)\n",
    "        )\n",
    "\n",
    "    def forward(self, x):\n",
    "        \"\"\"\n",
    "        Forward pass\n",
    "        \"\"\"\n",
    "        return self.layers(x)"
   ]
  },
  {
   "cell_type": "code",
   "execution_count": 20,
   "metadata": {},
   "outputs": [],
   "source": [
    "class LogReg(torch.nn.Module):\n",
    "    def __init__(self, vocab_size, num_of_labels):\n",
    "        super().__init__()\n",
    "        self.layers = nn.Sequential(torch.nn.Linear(vocab_size, num_of_labels))\n",
    "\n",
    "    def forward(self, x):\n",
    "        \"\"\"\n",
    "        Forward pass\n",
    "        \"\"\"\n",
    "        return self.layers(x)"
   ]
  },
  {
   "cell_type": "code",
   "execution_count": 21,
   "metadata": {},
   "outputs": [],
   "source": [
    "model = LogReg(UNIQUE_WORDS_N, UNIQUE_LABELS_N)"
   ]
  },
  {
   "cell_type": "code",
   "execution_count": 22,
   "metadata": {},
   "outputs": [],
   "source": [
    "l2_reg_alpha = 1e-4\n",
    "lr = 1e-1\n",
    "epoch_n = 200\n",
    "batch_size = 32\n",
    "device=\"cpu\"\n",
    "optimizer_ctor = torch.optim.Adagrad"
   ]
  },
  {
   "cell_type": "code",
   "execution_count": 23,
   "metadata": {
    "ExecuteTime": {
     "end_time": "2019-09-12T12:46:22.371272Z",
     "start_time": "2019-09-12T12:44:17.322178Z"
    },
    "scrolled": true
   },
   "outputs": [
    {
     "name": "stdout",
     "output_type": "stream",
     "text": [
      "Эпоха 0\n",
      "Эпоха: 354 итераций, 2.16 сек\n",
      "Среднее значение функции потерь на обучении 1.1393288836977575\n",
      "Среднее значение функции потерь на валидации 1.077737490504475\n",
      "Новая лучшая модель!\n",
      "\n",
      "Эпоха 1\n",
      "Эпоха: 354 итераций, 1.97 сек\n",
      "Среднее значение функции потерь на обучении 0.5145459441141894\n",
      "Среднее значение функции потерь на валидации 1.0238494575023651\n",
      "Новая лучшая модель!\n",
      "\n",
      "Эпоха 2\n",
      "Эпоха: 354 итераций, 1.96 сек\n",
      "Среднее значение функции потерь на обучении 0.4244963117575241\n",
      "Среднее значение функции потерь на валидации 0.9907745842711401\n",
      "Новая лучшая модель!\n",
      "\n",
      "Эпоха 3\n",
      "Эпоха: 354 итераций, 1.97 сек\n",
      "Среднее значение функции потерь на обучении 0.3737986411920375\n",
      "Среднее значение функции потерь на валидации 0.9690432321217101\n",
      "Новая лучшая модель!\n",
      "\n",
      "Эпоха 4\n",
      "Эпоха: 354 итераций, 1.99 сек\n",
      "Среднее значение функции потерь на обучении 0.34197615124916625\n",
      "Среднее значение функции потерь на валидации 0.9535212612758248\n",
      "Новая лучшая модель!\n",
      "\n",
      "Эпоха 5\n",
      "Эпоха: 354 итераций, 2.12 сек\n",
      "Среднее значение функции потерь на обучении 0.31930776369773733\n",
      "Среднее значение функции потерь на валидации 0.9431729730913194\n",
      "Новая лучшая модель!\n",
      "\n",
      "Эпоха 6\n",
      "Эпоха: 354 итераций, 2.22 сек\n",
      "Среднее значение функции потерь на обучении 0.30316449209290036\n",
      "Среднее значение функции потерь на валидации 0.9348608073541673\n",
      "Новая лучшая модель!\n",
      "\n",
      "Эпоха 7\n",
      "Эпоха: 354 итераций, 2.15 сек\n",
      "Среднее значение функции потерь на обучении 0.2899608915976885\n",
      "Среднее значение функции потерь на валидации 0.9289740662453538\n",
      "Новая лучшая модель!\n",
      "\n",
      "Эпоха 8\n",
      "Эпоха: 354 итераций, 2.09 сек\n",
      "Среднее значение функции потерь на обучении 0.27995795192523193\n",
      "Среднее значение функции потерь на валидации 0.9233095696416952\n",
      "Новая лучшая модель!\n",
      "\n",
      "Эпоха 9\n",
      "Эпоха: 354 итераций, 2.28 сек\n",
      "Среднее значение функции потерь на обучении 0.27237137567020403\n",
      "Среднее значение функции потерь на валидации 0.9188977527921482\n",
      "Новая лучшая модель!\n",
      "\n",
      "Эпоха 10\n",
      "Эпоха: 354 итераций, 2.19 сек\n",
      "Среднее значение функции потерь на обучении 0.26541382326918134\n",
      "Среднее значение функции потерь на валидации 0.9151493586220983\n",
      "Новая лучшая модель!\n",
      "\n",
      "Эпоха 11\n",
      "Эпоха: 354 итераций, 2.03 сек\n",
      "Среднее значение функции потерь на обучении 0.26003334852261734\n",
      "Среднее значение функции потерь на валидации 0.9117715072076199\n",
      "Новая лучшая модель!\n",
      "\n",
      "Эпоха 12\n",
      "Эпоха: 354 итераций, 2.17 сек\n",
      "Среднее значение функции потерь на обучении 0.25563271655201236\n",
      "Среднее значение функции потерь на валидации 0.9098273548534361\n",
      "Новая лучшая модель!\n",
      "\n",
      "Эпоха 13\n",
      "Эпоха: 354 итераций, 2.40 сек\n",
      "Среднее значение функции потерь на обучении 0.25127836089518113\n",
      "Среднее значение функции потерь на валидации 0.9079284839710947\n",
      "Новая лучшая модель!\n",
      "\n",
      "Эпоха 14\n",
      "Эпоха: 354 итераций, 1.97 сек\n",
      "Среднее значение функции потерь на обучении 0.24841069750024775\n",
      "Среднее значение функции потерь на валидации 0.9059448732157885\n",
      "Новая лучшая модель!\n",
      "\n",
      "Эпоха 15\n",
      "Эпоха: 354 итераций, 2.12 сек\n",
      "Среднее значение функции потерь на обучении 0.24538864477374459\n",
      "Среднее значение функции потерь на валидации 0.9037660884402566\n",
      "Новая лучшая модель!\n",
      "\n",
      "Эпоха 16\n",
      "Эпоха: 354 итераций, 2.47 сек\n",
      "Среднее значение функции потерь на обучении 0.24296080123233257\n",
      "Среднее значение функции потерь на валидации 0.9026019281502498\n",
      "Новая лучшая модель!\n",
      "\n",
      "Эпоха 17\n",
      "Эпоха: 354 итераций, 2.10 сек\n",
      "Среднее значение функции потерь на обучении 0.2405359829212986\n",
      "Среднее значение функции потерь на валидации 0.9015293329701586\n",
      "Новая лучшая модель!\n",
      "\n",
      "Эпоха 18\n",
      "Эпоха: 354 итераций, 2.13 сек\n",
      "Среднее значение функции потерь на обучении 0.23855035162746568\n",
      "Среднее значение функции потерь на валидации 0.9003672721022267\n",
      "Новая лучшая модель!\n",
      "\n",
      "Эпоха 19\n",
      "Эпоха: 354 итераций, 2.10 сек\n",
      "Среднее значение функции потерь на обучении 0.23682777629902133\n",
      "Среднее значение функции потерь на валидации 0.899444496227523\n",
      "Новая лучшая модель!\n",
      "\n",
      "Эпоха 20\n",
      "Эпоха: 354 итераций, 2.11 сек\n",
      "Среднее значение функции потерь на обучении 0.23528721958062068\n",
      "Среднее значение функции потерь на валидации 0.8989429232680192\n",
      "Новая лучшая модель!\n",
      "\n",
      "Эпоха 21\n",
      "Эпоха: 354 итераций, 2.14 сек\n",
      "Среднее значение функции потерь на обучении 0.2340444816371142\n",
      "Среднее значение функции потерь на валидации 0.8976634418812849\n",
      "Новая лучшая модель!\n",
      "\n",
      "Эпоха 22\n",
      "Эпоха: 354 итераций, 2.16 сек\n",
      "Среднее значение функции потерь на обучении 0.23275998024280461\n",
      "Среднее значение функции потерь на валидации 0.8972542308649775\n",
      "Новая лучшая модель!\n",
      "\n",
      "Эпоха 23\n",
      "Эпоха: 354 итераций, 2.18 сек\n",
      "Среднее значение функции потерь на обучении 0.23167778909374764\n",
      "Среднее значение функции потерь на валидации 0.8963271562578314\n",
      "Новая лучшая модель!\n",
      "\n",
      "Эпоха 24\n",
      "Эпоха: 354 итераций, 2.15 сек\n",
      "Среднее значение функции потерь на обучении 0.230516174039935\n",
      "Среднее значение функции потерь на валидации 0.8965627318721706\n",
      "\n",
      "Эпоха 25\n",
      "Эпоха: 354 итераций, 2.14 сек\n",
      "Среднее значение функции потерь на обучении 0.22966228981139297\n",
      "Среднее значение функции потерь на валидации 0.896131810747971\n",
      "Новая лучшая модель!\n",
      "\n",
      "Эпоха 26\n",
      "Эпоха: 354 итераций, 2.15 сек\n",
      "Среднее значение функции потерь на обучении 0.2290664598935068\n",
      "Среднее значение функции потерь на валидации 0.8950246418431654\n",
      "Новая лучшая модель!\n",
      "\n",
      "Эпоха 27\n",
      "Эпоха: 354 итераций, 2.13 сек\n",
      "Среднее значение функции потерь на обучении 0.22843121042696096\n",
      "Среднее значение функции потерь на валидации 0.8943099974323128\n",
      "Новая лучшая модель!\n",
      "\n",
      "Эпоха 28\n",
      "Эпоха: 354 итераций, 2.12 сек\n",
      "Среднее значение функции потерь на обучении 0.22729971003060961\n",
      "Среднее значение функции потерь на валидации 0.8942042332837137\n",
      "Новая лучшая модель!\n",
      "\n",
      "Эпоха 29\n",
      "Эпоха: 354 итераций, 2.00 сек\n",
      "Среднее значение функции потерь на обучении 0.22668370465605947\n",
      "Среднее значение функции потерь на валидации 0.8939713695544308\n",
      "Новая лучшая модель!\n",
      "\n",
      "Эпоха 30\n",
      "Эпоха: 354 итераций, 2.20 сек\n",
      "Среднее значение функции потерь на обучении 0.22633634444515585\n",
      "Среднее значение функции потерь на валидации 0.8938266521288176\n",
      "Новая лучшая модель!\n",
      "\n",
      "Эпоха 31\n",
      "Эпоха: 354 итераций, 2.12 сек\n",
      "Среднее значение функции потерь на обучении 0.22574692059539805\n",
      "Среднее значение функции потерь на валидации 0.8935976570187989\n",
      "Новая лучшая модель!\n",
      "\n",
      "Эпоха 32\n",
      "Эпоха: 354 итераций, 2.03 сек\n",
      "Среднее значение функции потерь на обучении 0.2249522867933505\n",
      "Среднее значение функции потерь на валидации 0.8932515775500718\n",
      "Новая лучшая модель!\n",
      "\n",
      "Эпоха 33\n",
      "Эпоха: 354 итераций, 2.03 сек\n",
      "Среднее значение функции потерь на обучении 0.2244897468783761\n",
      "Среднее значение функции потерь на валидации 0.8933152082865521\n",
      "\n",
      "Эпоха 34\n",
      "Эпоха: 354 итераций, 2.08 сек\n",
      "Среднее значение функции потерь на обучении 0.22436250249544779\n",
      "Среднее значение функции потерь на валидации 0.8930367012902841\n",
      "Новая лучшая модель!\n",
      "\n",
      "Эпоха 35\n",
      "Эпоха: 354 итераций, 2.12 сек\n",
      "Среднее значение функции потерь на обучении 0.2238742247392229\n",
      "Среднее значение функции потерь на валидации 0.8926234134172989\n",
      "Новая лучшая модель!\n",
      "\n",
      "Эпоха 36\n",
      "Эпоха: 354 итераций, 2.08 сек\n",
      "Среднее значение функции потерь на обучении 0.22341108578914975\n",
      "Среднее значение функции потерь на валидации 0.8927510633306989\n",
      "\n",
      "Эпоха 37\n",
      "Эпоха: 354 итераций, 2.07 сек\n",
      "Среднее значение функции потерь на обучении 0.2234152722156654\n",
      "Среднее значение функции потерь на валидации 0.8920350869075727\n",
      "Новая лучшая модель!\n",
      "\n",
      "Эпоха 38\n",
      "Эпоха: 354 итераций, 2.10 сек\n",
      "Среднее значение функции потерь на обучении 0.2227366102785714\n",
      "Среднее значение функции потерь на валидации 0.8918058585564969\n",
      "Новая лучшая модель!\n",
      "\n",
      "Эпоха 39\n",
      "Эпоха: 354 итераций, 2.05 сек\n",
      "Среднее значение функции потерь на обучении 0.22242300292361253\n",
      "Среднее значение функции потерь на валидации 0.8921329564714836\n",
      "\n",
      "Эпоха 40\n",
      "Эпоха: 354 итераций, 2.09 сек\n",
      "Среднее значение функции потерь на обучении 0.22237756663123093\n",
      "Среднее значение функции потерь на валидации 0.8919182586467872\n",
      "\n",
      "Эпоха 41\n",
      "Эпоха: 354 итераций, 2.17 сек\n",
      "Среднее значение функции потерь на обучении 0.2219906721664014\n",
      "Среднее значение функции потерь на валидации 0.8919789570115381\n",
      "\n",
      "Эпоха 42\n",
      "Эпоха: 354 итераций, 2.02 сек\n",
      "Среднее значение функции потерь на обучении 0.22155922583941012\n",
      "Среднее значение функции потерь на валидации 0.8918955995369766\n",
      "\n",
      "Эпоха 43\n",
      "Эпоха: 354 итераций, 2.07 сек\n",
      "Среднее значение функции потерь на обучении 0.22175359544949344\n",
      "Среднее значение функции потерь на валидации 0.8914223900538379\n",
      "Новая лучшая модель!\n",
      "\n",
      "Эпоха 44\n",
      "Эпоха: 354 итераций, 2.13 сек\n",
      "Среднее значение функции потерь на обучении 0.22122625257335815\n"
     ]
    },
    {
     "name": "stdout",
     "output_type": "stream",
     "text": [
      "Среднее значение функции потерь на валидации 0.8912023981496439\n",
      "Новая лучшая модель!\n",
      "\n",
      "Эпоха 45\n",
      "Эпоха: 354 итераций, 2.05 сек\n",
      "Среднее значение функции потерь на обучении 0.22116521295517852\n",
      "Среднее значение функции потерь на валидации 0.8912812859072523\n",
      "\n",
      "Эпоха 46\n",
      "Эпоха: 354 итераций, 2.18 сек\n",
      "Среднее значение функции потерь на обучении 0.220879735961809\n",
      "Среднее значение функции потерь на валидации 0.891896525555748\n",
      "\n",
      "Эпоха 47\n",
      "Эпоха: 354 итераций, 2.09 сек\n",
      "Среднее значение функции потерь на обучении 0.22071595548909936\n",
      "Среднее значение функции потерь на валидации 0.8911652861762855\n",
      "Новая лучшая модель!\n",
      "\n",
      "Эпоха 48\n",
      "Эпоха: 354 итераций, 2.06 сек\n",
      "Среднее значение функции потерь на обучении 0.22048942967828383\n",
      "Среднее значение функции потерь на валидации 0.8913356114999723\n",
      "\n",
      "Эпоха 49\n",
      "Эпоха: 354 итераций, 2.06 сек\n",
      "Среднее значение функции потерь на обучении 0.2203538379931854\n",
      "Среднее значение функции потерь на валидации 0.8908772956011659\n",
      "Новая лучшая модель!\n",
      "\n",
      "Эпоха 50\n",
      "Эпоха: 354 итераций, 2.35 сек\n",
      "Среднее значение функции потерь на обучении 0.22032069010754762\n",
      "Среднее значение функции потерь на валидации 0.8909561524199228\n",
      "\n",
      "Эпоха 51\n",
      "Эпоха: 354 итераций, 2.35 сек\n",
      "Среднее значение функции потерь на обучении 0.22013690676224434\n",
      "Среднее значение функции потерь на валидации 0.8911338744022078\n",
      "\n",
      "Эпоха 52\n",
      "Эпоха: 354 итераций, 2.20 сек\n",
      "Среднее значение функции потерь на обучении 0.21989964293894795\n",
      "Среднее значение функции потерь на валидации 0.8907769514342486\n",
      "Новая лучшая модель!\n",
      "\n",
      "Эпоха 53\n",
      "Эпоха: 354 итераций, 2.24 сек\n",
      "Среднее значение функции потерь на обучении 0.2197696005473029\n",
      "Среднее значение функции потерь на валидации 0.8910087239691766\n",
      "\n",
      "Эпоха 54\n",
      "Эпоха: 354 итераций, 2.10 сек\n",
      "Среднее значение функции потерь на обучении 0.21952304900702785\n",
      "Среднее значение функции потерь на валидации 0.8906713796116538\n",
      "Новая лучшая модель!\n",
      "\n",
      "Эпоха 55\n",
      "Эпоха: 354 итераций, 2.05 сек\n",
      "Среднее значение функции потерь на обучении 0.21958948335068373\n",
      "Среднее значение функции потерь на валидации 0.8908193925932303\n",
      "\n",
      "Эпоха 56\n",
      "Эпоха: 354 итераций, 2.07 сек\n",
      "Среднее значение функции потерь на обучении 0.21934486618318128\n",
      "Среднее значение функции потерь на валидации 0.8907731243614423\n",
      "\n",
      "Эпоха 57\n",
      "Эпоха: 354 итераций, 2.08 сек\n",
      "Среднее значение функции потерь на обучении 0.21937812427006198\n",
      "Среднее значение функции потерь на валидации 0.8907547973222651\n",
      "\n",
      "Эпоха 58\n",
      "Эпоха: 354 итераций, 2.08 сек\n",
      "Среднее значение функции потерь на обучении 0.21914205746462115\n",
      "Среднее значение функции потерь на валидации 0.890960287744716\n",
      "\n",
      "Эпоха 59\n",
      "Эпоха: 354 итераций, 2.07 сек\n",
      "Среднее значение функции потерь на обучении 0.2191341318568941\n",
      "Среднее значение функции потерь на валидации 0.8905671547024937\n",
      "Новая лучшая модель!\n",
      "\n",
      "Эпоха 60\n",
      "Эпоха: 354 итераций, 2.07 сек\n",
      "Среднее значение функции потерь на обучении 0.21903650925657844\n",
      "Среднее значение функции потерь на валидации 0.8906334005927635\n",
      "\n",
      "Эпоха 61\n",
      "Эпоха: 354 итераций, 2.08 сек\n",
      "Среднее значение функции потерь на обучении 0.21903108818046116\n",
      "Среднее значение функции потерь на валидации 0.8904442818740667\n",
      "Новая лучшая модель!\n",
      "\n",
      "Эпоха 62\n",
      "Эпоха: 354 итераций, 2.03 сек\n",
      "Среднее значение функции потерь на обучении 0.21874847532497288\n",
      "Среднее значение функции потерь на валидации 0.8903665004645364\n",
      "Новая лучшая модель!\n",
      "\n",
      "Эпоха 63\n",
      "Эпоха: 354 итераций, 2.14 сек\n",
      "Среднее значение функции потерь на обучении 0.21871312657150171\n",
      "Среднее значение функции потерь на валидации 0.8903459556779619\n",
      "Новая лучшая модель!\n",
      "\n",
      "Эпоха 64\n",
      "Эпоха: 354 итераций, 2.10 сек\n",
      "Среднее значение функции потерь на обучении 0.21864042342719386\n",
      "Среднее значение функции потерь на валидации 0.8905966088680898\n",
      "\n",
      "Эпоха 65\n",
      "Эпоха: 354 итераций, 2.03 сек\n",
      "Среднее значение функции потерь на обучении 0.2185496246747378\n",
      "Среднее значение функции потерь на валидации 0.8902998358263807\n",
      "Новая лучшая модель!\n",
      "\n",
      "Эпоха 66\n",
      "Эпоха: 354 итераций, 2.02 сек\n",
      "Среднее значение функции потерь на обучении 0.21857632199923197\n",
      "Среднее значение функции потерь на валидации 0.8902386406720695\n",
      "Новая лучшая модель!\n",
      "\n",
      "Эпоха 67\n",
      "Эпоха: 354 итераций, 2.02 сек\n",
      "Среднее значение функции потерь на обучении 0.2183618497966373\n",
      "Среднее значение функции потерь на валидации 0.890409995943813\n",
      "\n",
      "Эпоха 68\n",
      "Эпоха: 354 итераций, 2.08 сек\n",
      "Среднее значение функции потерь на обучении 0.2183428990133738\n",
      "Среднее значение функции потерь на валидации 0.89034430909965\n",
      "\n",
      "Эпоха 69\n",
      "Эпоха: 354 итераций, 2.09 сек\n",
      "Среднее значение функции потерь на обучении 0.21835760384966424\n",
      "Среднее значение функции потерь на валидации 0.8906267535383419\n",
      "\n",
      "Эпоха 70\n",
      "Эпоха: 354 итераций, 2.03 сек\n",
      "Среднее значение функции потерь на обучении 0.21821839501292017\n",
      "Среднее значение функции потерь на валидации 0.890618225528022\n",
      "\n",
      "Эпоха 71\n",
      "Эпоха: 354 итераций, 2.00 сек\n",
      "Среднее значение функции потерь на обучении 0.21801421172538046\n",
      "Среднее значение функции потерь на валидации 0.890604261750892\n",
      "\n",
      "Эпоха 72\n",
      "Эпоха: 354 итераций, 2.04 сек\n",
      "Среднее значение функции потерь на обучении 0.21821332615563424\n",
      "Среднее значение функции потерь на валидации 0.8903766206260455\n",
      "Epoch    73: reducing learning rate of group 0 to 5.0000e-02.\n",
      "\n",
      "Эпоха 73\n",
      "Эпоха: 354 итераций, 2.46 сек\n",
      "Среднее значение функции потерь на обучении 0.21382529267483513\n",
      "Среднее значение функции потерь на валидации 0.8907795784584547\n",
      "\n",
      "Эпоха 74\n",
      "Эпоха: 354 итераций, 2.15 сек\n",
      "Среднее значение функции потерь на обучении 0.21394720894552893\n",
      "Среднее значение функции потерь на валидации 0.8911873015054201\n",
      "\n",
      "Эпоха 75\n",
      "Эпоха: 354 итераций, 2.21 сек\n",
      "Среднее значение функции потерь на обучении 0.21432925735489797\n",
      "Среднее значение функции потерь на валидации 0.8914603633900821\n",
      "\n",
      "Эпоха 76\n",
      "Эпоха: 354 итераций, 2.02 сек\n",
      "Среднее значение функции потерь на обучении 0.21444214789965058\n",
      "Среднее значение функции потерь на валидации 0.8915877811989542\n",
      "\n",
      "Эпоха 77\n",
      "Эпоха: 354 итераций, 2.11 сек\n",
      "Среднее значение функции потерь на обучении 0.21466466906548892\n",
      "Среднее значение функции потерь на валидации 0.8916969914305009\n",
      "Модель не улучшилась за последние 10 эпох, прекращаем обучение\n"
     ]
    }
   ],
   "source": [
    "scheduler = lambda optim: torch.optim.lr_scheduler.ReduceLROnPlateau(\n",
    "    optim, patience=5, factor=0.5, verbose=True\n",
    ")\n",
    "\n",
    "best_val_loss, best_model = train_eval_loop(\n",
    "    model=model,\n",
    "    train_dataset=train_dataset,\n",
    "    val_dataset=test_dataset,\n",
    "    criterion=F.cross_entropy,\n",
    "    lr=lr,\n",
    "    epoch_n=epoch_n,\n",
    "    batch_size=batch_size,\n",
    "    device=device,\n",
    "    l2_reg_alpha=l2_reg_alpha,\n",
    "    optimizer_ctor=optimizer_ctor,\n",
    "    lr_scheduler_ctor=scheduler,\n",
    ")"
   ]
  },
  {
   "cell_type": "markdown",
   "metadata": {},
   "source": [
    "## Оценка качества"
   ]
  },
  {
   "cell_type": "code",
   "execution_count": 24,
   "metadata": {
    "ExecuteTime": {
     "end_time": "2019-09-12T12:46:25.105663Z",
     "start_time": "2019-09-12T12:46:22.373012Z"
    },
    "scrolled": false
   },
   "outputs": [
    {
     "name": "stderr",
     "output_type": "stream",
     "text": [
      "100%|███████████████████████████████████████████████████████████████████████████████████████████████████████████████████████████████████████████████████████████████| 354/353.5625 [00:01<00:00, 186.78it/s]\n"
     ]
    },
    {
     "name": "stdout",
     "output_type": "stream",
     "text": [
      "Среднее значение функции потерь на обучении 0.20902428030967712\n",
      "Доля верных ответов 0.9983206646632491\n",
      "\n"
     ]
    },
    {
     "name": "stderr",
     "output_type": "stream",
     "text": [
      "236it [00:01, 180.24it/s]                                                                                                                                                                                   "
     ]
    },
    {
     "name": "stdout",
     "output_type": "stream",
     "text": [
      "Среднее значение функции потерь на валидации 0.8890129923820496\n",
      "Доля верных ответов 0.8113382899628253\n"
     ]
    },
    {
     "name": "stderr",
     "output_type": "stream",
     "text": [
      "\n"
     ]
    }
   ],
   "source": [
    "train_pred = predict_with_model(best_model, train_dataset)\n",
    "\n",
    "train_loss = F.cross_entropy(\n",
    "    torch.from_numpy(train_pred), torch.from_numpy(train_source[\"target\"]).long()\n",
    ")\n",
    "\n",
    "print(\"Среднее значение функции потерь на обучении\", float(train_loss))\n",
    "print(\n",
    "    \"Доля верных ответов\", accuracy_score(train_source[\"target\"], train_pred.argmax(-1))\n",
    ")\n",
    "print()\n",
    "\n",
    "\n",
    "test_pred = predict_with_model(best_model, test_dataset)\n",
    "\n",
    "test_loss = F.cross_entropy(\n",
    "    torch.from_numpy(test_pred), torch.from_numpy(test_source[\"target\"]).long()\n",
    ")\n",
    "\n",
    "print(\"Среднее значение функции потерь на валидации\", float(test_loss))\n",
    "print(\n",
    "    \"Доля верных ответов\", accuracy_score(test_source[\"target\"], test_pred.argmax(-1))\n",
    ")"
   ]
  },
  {
   "cell_type": "code",
   "execution_count": 25,
   "metadata": {
    "scrolled": true
   },
   "outputs": [
    {
     "name": "stdout",
     "output_type": "stream",
     "text": [
      "- среднее значение функции потерь на обучении: 0.20902428030967712\n",
      "- доля верных ответов на обучении: 0.9983206646632491\n",
      "- среднее значение функции потерь на валидации: 0.8890129923820496\n",
      "- доля верных ответов на валидации: 0.8113382899628253\n"
     ]
    }
   ],
   "source": [
    "print(f\"- среднее значение функции потерь на обучении: {float(train_loss)}\")\n",
    "print(f\"- доля верных ответов на обучении: {accuracy_score(train_source['target'], train_pred.argmax(-1))}\")\n",
    "print(f\"- среднее значение функции потерь на валидации: {float(test_loss)}\")\n",
    "print(f\"- доля верных ответов на валидации: {accuracy_score(test_source['target'], test_pred.argmax(-1))}\")"
   ]
  },
  {
   "cell_type": "markdown",
   "metadata": {},
   "source": [
    "# Альтернативная реализация на scikit-learn"
   ]
  },
  {
   "cell_type": "code",
   "execution_count": 15,
   "metadata": {
    "ExecuteTime": {
     "end_time": "2019-09-12T12:46:31.791405Z",
     "start_time": "2019-09-12T12:46:25.107897Z"
    },
    "scrolled": false
   },
   "outputs": [],
   "source": [
    "from sklearn.feature_extraction.text import TfidfVectorizer\n",
    "from sklearn.pipeline import Pipeline\n",
    "from sklearn.linear_model import LogisticRegression\n",
    "\n",
    "sklearn_pipeline = Pipeline(\n",
    "    (\n",
    "        (\n",
    "            \"vect\",\n",
    "            TfidfVectorizer(\n",
    "                tokenizer=tokenize_text_simple_regex, max_df=MAX_DF, min_df=MIN_COUNT\n",
    "            ),\n",
    "        ),\n",
    "        (\"cls\", LogisticRegression()),\n",
    "    )\n",
    ")\n",
    "sklearn_pipeline.fit(train_source[\"data\"], train_source[\"target\"])"
   ]
  },
  {
   "cell_type": "markdown",
   "metadata": {},
   "source": [
    "## Оценка качества"
   ]
  },
  {
   "cell_type": "code",
   "execution_count": 16,
   "metadata": {
    "ExecuteTime": {
     "end_time": "2019-09-12T12:46:35.454567Z",
     "start_time": "2019-09-12T12:46:31.792832Z"
    }
   },
   "outputs": [
    {
     "name": "stdout",
     "output_type": "stream",
     "text": [
      "Среднее значение функции потерь на обучении 2.4954788917367474\n",
      "Доля верных ответов 0.9716280714159449\n",
      "\n",
      "Среднее значение функции потерь на валидации 2.653902258130049\n",
      "Доля верных ответов 0.8190387679235263\n"
     ]
    }
   ],
   "source": [
    "sklearn_train_pred = sklearn_pipeline.predict_proba(train_source[\"data\"])\n",
    "sklearn_train_loss = F.cross_entropy(\n",
    "    torch.from_numpy(sklearn_train_pred), torch.from_numpy(train_source[\"target\"])\n",
    ")\n",
    "print(\"Среднее значение функции потерь на обучении\", float(sklearn_train_loss))\n",
    "print(\n",
    "    \"Доля верных ответов\",\n",
    "    accuracy_score(train_source[\"target\"], sklearn_train_pred.argmax(-1)),\n",
    ")\n",
    "print()\n",
    "\n",
    "sklearn_test_pred = sklearn_pipeline.predict_proba(test_source[\"data\"])\n",
    "sklearn_test_loss = F.cross_entropy(\n",
    "    torch.from_numpy(sklearn_test_pred), torch.from_numpy(test_source[\"target\"])\n",
    ")\n",
    "print(\"Среднее значение функции потерь на валидации\", float(sklearn_test_loss))\n",
    "print(\n",
    "    \"Доля верных ответов\",\n",
    "    accuracy_score(test_source[\"target\"], sklearn_test_pred.argmax(-1)),\n",
    ")"
   ]
  },
  {
   "cell_type": "code",
   "execution_count": null,
   "metadata": {},
   "outputs": [],
   "source": []
  }
 ],
 "metadata": {
  "kernelspec": {
   "display_name": "Python 3 (ipykernel)",
   "language": "python",
   "name": "python3"
  },
  "language_info": {
   "codemirror_mode": {
    "name": "ipython",
    "version": 3
   },
   "file_extension": ".py",
   "mimetype": "text/x-python",
   "name": "python",
   "nbconvert_exporter": "python",
   "pygments_lexer": "ipython3",
   "version": "3.9.10"
  },
  "latex_envs": {
   "LaTeX_envs_menu_present": true,
   "autoclose": false,
   "autocomplete": true,
   "bibliofile": "biblio.bib",
   "cite_by": "apalike",
   "current_citInitial": 1,
   "eqLabelWithNumbers": true,
   "eqNumInitial": 1,
   "hotkeys": {
    "equation": "Ctrl-E",
    "itemize": "Ctrl-I"
   },
   "labels_anchors": false,
   "latex_user_defs": false,
   "report_style_numbering": false,
   "user_envs_cfg": false
  },
  "toc": {
   "base_numbering": 1,
   "nav_menu": {},
   "number_sections": true,
   "sideBar": true,
   "skip_h1_title": false,
   "title_cell": "Table of Contents",
   "title_sidebar": "Contents",
   "toc_cell": false,
   "toc_position": {},
   "toc_section_display": true,
   "toc_window_display": true
  }
 },
 "nbformat": 4,
 "nbformat_minor": 2
}
