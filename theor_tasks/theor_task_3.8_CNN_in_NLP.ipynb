{
 "cells": [
  {
   "cell_type": "markdown",
   "id": "96561e4c",
   "metadata": {},
   "source": [
    "## 3.8 Теоретические вопросы: Свёрточные нейросети в обработке текста"
   ]
  },
  {
   "cell_type": "markdown",
   "id": "9b54d104",
   "metadata": {},
   "source": [
    "### Импорт необходимых библиотек"
   ]
  },
  {
   "cell_type": "code",
   "execution_count": 293,
   "id": "8e62990e",
   "metadata": {},
   "outputs": [],
   "source": [
    "import numpy as np"
   ]
  },
  {
   "cell_type": "markdown",
   "id": "21bfb280",
   "metadata": {},
   "source": [
    "### [Напишите функцию, применяющую свёрточный модуль к последовательности.](https://stepik.org/lesson/261477/step/2?unit=242226)"
   ]
  },
  {
   "cell_type": "code",
   "execution_count": 442,
   "id": "0208e63b",
   "metadata": {},
   "outputs": [],
   "source": [
    "def apply_convolution(data, kernel, bias):\n",
    "    \"\"\"\n",
    "    data - InLen x InChannels\n",
    "    kernel - OutChannels x InChannels x KernelSize\n",
    "    bias - OutChannels\n",
    "\n",
    "    returns OutLen x OutChannels\n",
    "    \"\"\"\n",
    "\n",
    "    result = []\n",
    "    cont = []\n",
    "    kernel_size = kernel.shape[-1]\n",
    "\n",
    "    for k_out in kernel:\n",
    "        for offset in range(len(data)):\n",
    "            if offset + (kernel_size - 1) < len(data):\n",
    "                cont.append(\n",
    "                    (data[offset : offset + kernel_size] * k_out.T).ravel().sum()\n",
    "                )\n",
    "\n",
    "        result.append(cont)\n",
    "        cont = []\n",
    "\n",
    "    result = np.array(result).T + bias\n",
    "\n",
    "    return result"
   ]
  },
  {
   "cell_type": "markdown",
   "id": "b63d6be1",
   "metadata": {},
   "source": [
    "### [Напишите функцию, которая находит значение производной результата по ядру свёртки.](https://stepik.org/lesson/261477/step/3?unit=242226)"
   ]
  },
  {
   "cell_type": "code",
   "execution_count": 632,
   "id": "35e2d4c0",
   "metadata": {},
   "outputs": [],
   "source": [
    "def calculate_kernel_grad(x, y, kernel, bias):\n",
    "    \"\"\"\n",
    "    x - InLen x InChannels\n",
    "    y - OutLen x OutChannels\n",
    "    kernel - OutChannels x InChannels x KernelSize\n",
    "    bias - OutChannels\n",
    "\n",
    "    returns OutChannels x InChannels x KernelSize\n",
    "    \"\"\"\n",
    "\n",
    "    result = []\n",
    "    in_channels = kernel.shape[1]\n",
    "    kernel_size = kernel.shape[2]\n",
    "\n",
    "    for k_out in kernel:\n",
    "        cont = np.zeros((kernel_size, in_channels))\n",
    "        for offset in range(len(x)):\n",
    "            if offset + (kernel_size - 1) < len(x):\n",
    "                cont += x[offset : offset + kernel_size]\n",
    "\n",
    "        result.append(cont)\n",
    "\n",
    "    return np.array(result)"
   ]
  },
  {
   "cell_type": "markdown",
   "id": "68528e53",
   "metadata": {},
   "source": [
    "### [Напишите функцию, которая находит значение производной результата по входу.](https://stepik.org/lesson/261477/step/4?unit=242226)"
   ]
  },
  {
   "cell_type": "code",
   "execution_count": 629,
   "id": "e2cdc007",
   "metadata": {},
   "outputs": [],
   "source": [
    "def calculate_conv_x_grad(x, y, kernel, bias):\n",
    "    \"\"\"\n",
    "    x - InLen x InChannels\n",
    "    y - OutLen x OutChannels\n",
    "    kernel - OutChannels x InChannels x KernelSize\n",
    "    bias - OutChannels\n",
    "\n",
    "    returns OutChannels x InChannels x KernelSize\n",
    "    \"\"\"\n",
    "\n",
    "    result = np.zeros(x.shape)\n",
    "    der = 0\n",
    "    x_cont = None\n",
    "\n",
    "    for i, v in np.ndenumerate(x):\n",
    "        x_cont = x.copy()\n",
    "        x_cont[i] = x_cont[i] + 1\n",
    "        result[i] = (\n",
    "            apply_convolution(x_cont, kernel, bias).sum()\n",
    "            - apply_convolution(x, kernel, bias).sum()\n",
    "        )\n",
    "\n",
    "    return result"
   ]
  },
  {
   "cell_type": "markdown",
   "id": "7801840e",
   "metadata": {},
   "source": [
    "### [Напишите функцию для расчёта ширины рецептивного поля.](https://stepik.org/lesson/261477/step/5?unit=242226)"
   ]
  },
  {
   "cell_type": "code",
   "execution_count": 686,
   "id": "23bfac43",
   "metadata": {},
   "outputs": [],
   "source": [
    "def calculate_receptive_field(layers):\n",
    "    \"\"\"\n",
    "    layers - list of LayerInfo\n",
    "\n",
    "    returns int - receptive field size\n",
    "    \"\"\"\n",
    "    res = 1\n",
    "\n",
    "    for layer in layers:\n",
    "        res += (layer.kernel_size - 1) * layer.dilation\n",
    "\n",
    "    return res"
   ]
  },
  {
   "cell_type": "code",
   "execution_count": null,
   "id": "38bc7a0b",
   "metadata": {},
   "outputs": [],
   "source": []
  }
 ],
 "metadata": {
  "kernelspec": {
   "display_name": "Python 3 (ipykernel)",
   "language": "python",
   "name": "python3"
  },
  "language_info": {
   "codemirror_mode": {
    "name": "ipython",
    "version": 3
   },
   "file_extension": ".py",
   "mimetype": "text/x-python",
   "name": "python",
   "nbconvert_exporter": "python",
   "pygments_lexer": "ipython3",
   "version": "3.9.10"
  }
 },
 "nbformat": 4,
 "nbformat_minor": 5
}
