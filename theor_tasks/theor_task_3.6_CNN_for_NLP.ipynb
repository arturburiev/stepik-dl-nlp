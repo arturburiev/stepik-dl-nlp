{
 "cells": [
  {
   "cell_type": "markdown",
   "id": "6d3de0d0",
   "metadata": {},
   "source": [
    "## 3.6 Свёрточные нейросети для обработки текстов"
   ]
  },
  {
   "cell_type": "markdown",
   "id": "2dbe1415",
   "metadata": {},
   "source": [
    "### [Примените свёртку с ядром (-0.5, 0, 0.5) к сигналу (1,1,2,3,3,3,2,1,1). Ответ запишите в виде последовательности чисел, разделённых пробелами. В качестве десятичного разделителя используйте точку. Входную последовательность не нужно дополнять фиктивными элементами (padding выключен).](https://stepik.org/lesson/225314/step/3?unit=198057)"
   ]
  },
  {
   "cell_type": "code",
   "execution_count": 1,
   "id": "d3c3af60",
   "metadata": {},
   "outputs": [],
   "source": [
    "def inner_product(v1, v2):\n",
    "    return sum([x1 * x2 for x1, x2 in zip(v1, v2)])"
   ]
  },
  {
   "cell_type": "code",
   "execution_count": 2,
   "id": "ee33b14c",
   "metadata": {},
   "outputs": [],
   "source": [
    "def conv(kernel, vector, stride=1):\n",
    "    res = []\n",
    "    subvector = []\n",
    "    for i in range(1, len(vector)):\n",
    "        subvector = vector[i - 1 : i + 2]\n",
    "        if len(subvector) == len(kernel):\n",
    "            res.append(inner_product(kernel, vector[i - 1 : i + 2]))\n",
    "    return res"
   ]
  },
  {
   "cell_type": "code",
   "execution_count": 3,
   "id": "7fe56a3d",
   "metadata": {},
   "outputs": [],
   "source": [
    "kernel = [-0.5, 0, 0.5]\n",
    "vector = [1, 1, 2, 3, 3, 3, 2, 1, 1]"
   ]
  },
  {
   "cell_type": "code",
   "execution_count": 4,
   "id": "adaa365d",
   "metadata": {},
   "outputs": [
    {
     "data": {
      "text/plain": [
       "'0.5 1.0 0.5 0.0 -0.5 -1.0 -0.5'"
      ]
     },
     "execution_count": 4,
     "metadata": {},
     "output_type": "execute_result"
    }
   ],
   "source": [
    "\" \".join([str(elem) for elem in conv(kernel, vector)])"
   ]
  },
  {
   "cell_type": "code",
   "execution_count": null,
   "id": "fe8da1e0",
   "metadata": {},
   "outputs": [],
   "source": []
  }
 ],
 "metadata": {
  "kernelspec": {
   "display_name": "Python 3 (ipykernel)",
   "language": "python",
   "name": "python3"
  },
  "language_info": {
   "codemirror_mode": {
    "name": "ipython",
    "version": 3
   },
   "file_extension": ".py",
   "mimetype": "text/x-python",
   "name": "python",
   "nbconvert_exporter": "python",
   "pygments_lexer": "ipython3",
   "version": "3.9.10"
  }
 },
 "nbformat": 4,
 "nbformat_minor": 5
}
