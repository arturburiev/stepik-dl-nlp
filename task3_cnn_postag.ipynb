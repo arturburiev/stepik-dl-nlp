{
 "cells": [
  {
   "cell_type": "markdown",
   "metadata": {
    "cellId": "zl5k218obd8jdw11dabtlo"
   },
   "source": [
    "# Свёрточные нейросети и POS-теггинг\n",
    "\n",
    "POS-теггинг - определение частей речи (снятие частеречной неоднозначности)"
   ]
  },
  {
   "cell_type": "code",
   "execution_count": 137,
   "metadata": {
    "cellId": "19p4wa36kdus1r68ra7aw"
   },
   "outputs": [],
   "source": [
    "# Если Вы запускаете ноутбук на colab или kaggle,\n",
    "# выполните следующие строчки, чтобы подгрузить библиотеку dlnlputils:\n",
    "\n",
    "# !git clone https://github.com/arturburiev/stepik-dl-nlp.git\n",
    "# !pip install -r stepik-dl-nlp/requirements.txt\n",
    "# import sys; sys.path.append('./stepik-dl-nlp')"
   ]
  },
  {
   "cell_type": "code",
   "execution_count": 138,
   "metadata": {
    "ExecuteTime": {
     "end_time": "2019-10-29T19:42:57.976431Z",
     "start_time": "2019-10-29T19:42:57.959538Z"
    },
    "cellId": "ln9gxth234xc5885po5s"
   },
   "outputs": [],
   "source": [
    "# !pip install pyconll\n",
    "# !pip install spacy_udpipe"
   ]
  },
  {
   "cell_type": "code",
   "execution_count": 1034,
   "metadata": {
    "ExecuteTime": {
     "end_time": "2019-10-29T19:49:34.549739Z",
     "start_time": "2019-10-29T19:49:32.179692Z"
    },
    "cellId": "ribvc3xjhkce3pulr6w2c8"
   },
   "outputs": [
    {
     "name": "stderr",
     "output_type": "stream",
     "text": [
      "[nltk_data] Downloading package omw-1.4 to /home/jupyter/nltk_data...\n",
      "[nltk_data]   Package omw-1.4 is already up-to-date!\n"
     ]
    }
   ],
   "source": [
    "#!g1.1\n",
    "%load_ext autoreload\n",
    "%autoreload 2\n",
    "\n",
    "import sys; sys.path.append('./stepik-dl-nlp')\n",
    "\n",
    "import warnings\n",
    "warnings.filterwarnings('ignore')\n",
    "\n",
    "from sklearn.metrics import classification_report\n",
    "\n",
    "import numpy as np\n",
    "\n",
    "import pyconll\n",
    "\n",
    "import torch\n",
    "from torch import nn\n",
    "from torch.nn import functional as F\n",
    "from torch.utils.data import TensorDataset\n",
    "\n",
    "import dlnlputils\n",
    "from dlnlputils.data import tokenize_corpus, build_vocabulary, \\\n",
    "    character_tokenize, pos_corpus_to_tensor, POSTagger\n",
    "from dlnlputils.pipeline import train_eval_loop, predict_with_model, init_random_seed\n",
    "\n",
    "init_random_seed()"
   ]
  },
  {
   "cell_type": "markdown",
   "metadata": {
    "cellId": "xfuyko841oepayif42tcu"
   },
   "source": [
    "## Загрузка текстов и разбиение на обучающую и тестовую подвыборки"
   ]
  },
  {
   "cell_type": "code",
   "execution_count": 189,
   "metadata": {
    "ExecuteTime": {
     "end_time": "2019-10-29T19:47:08.433599Z",
     "start_time": "2019-10-29T19:46:05.110693Z"
    },
    "cellId": "mlowe7zvpf3efhyvxozcn"
   },
   "outputs": [],
   "source": [
    "# # Если Вы запускаете ноутбук на colab или kaggle, добавьте в начало пути ./stepik-dl-nlp\n",
    "# !wget -O ./stepik-dl-nlp/datasets/ru_syntagrus-ud-train.conllu https://raw.githubusercontent.com/UniversalDependencies/UD_Russian-SynTagRus/master/ru_syntagrus-ud-train-a.conllu\n",
    "# !wget -O ./stepik-dl-nlp/datasets/ru_syntagrus-ud-dev.conllu https://raw.githubusercontent.com/UniversalDependencies/UD_Russian-SynTagRus/master/ru_syntagrus-ud-dev.conllu"
   ]
  },
  {
   "cell_type": "code",
   "execution_count": 1030,
   "metadata": {
    "ExecuteTime": {
     "end_time": "2019-10-29T19:49:56.525561Z",
     "start_time": "2019-10-29T19:49:37.315213Z"
    },
    "cellId": "g4a6z2kyqhqwlut62wpqyc"
   },
   "outputs": [],
   "source": [
    "#!c1.8\n",
    "# Если Вы запускаете ноутбук на colab или kaggle, добавьте в начало пути ./stepik-dl-nlp\n",
    "full_train = pyconll.load_from_file('./stepik-dl-nlp/datasets/ru_syntagrus-ud-train.conllu')\n",
    "full_test = pyconll.load_from_file('./stepik-dl-nlp/datasets/ru_syntagrus-ud-dev.conllu')"
   ]
  },
  {
   "cell_type": "code",
   "execution_count": 1031,
   "metadata": {
    "ExecuteTime": {
     "end_time": "2019-10-29T19:49:56.548127Z",
     "start_time": "2019-10-29T19:49:56.527559Z"
    },
    "cellId": "c5dgoa1qgwef4f6nd5khd"
   },
   "outputs": [
    {
     "name": "stdout",
     "output_type": "stream",
     "text": [
      "Анкета NOUN\n",
      ". PUNCT\n",
      "\n",
      "Начальник NOUN\n",
      "областного ADJ\n",
      "управления NOUN\n",
      "связи NOUN\n",
      "Семен PROPN\n",
      "Еремеевич PROPN\n",
      "был AUX\n",
      "человек NOUN\n",
      "простой ADJ\n",
      ", PUNCT\n",
      "приходил VERB\n",
      "на ADP\n",
      "работу NOUN\n",
      "всегда ADV\n",
      "вовремя ADV\n",
      ", PUNCT\n",
      "здоровался VERB\n",
      "с ADP\n",
      "секретаршей NOUN\n",
      "за ADP\n",
      "руку NOUN\n",
      "и CCONJ\n",
      "иногда ADV\n",
      "даже PART\n",
      "писал VERB\n",
      "в ADP\n",
      "стенгазету NOUN\n",
      "заметки NOUN\n",
      "под ADP\n",
      "псевдонимом NOUN\n",
      "\" PUNCT\n",
      "Муха NOUN\n",
      "\" PUNCT\n",
      ". PUNCT\n",
      "\n"
     ]
    }
   ],
   "source": [
    "#!c1.8\n",
    "for sent in full_train[:2]:\n",
    "    for token in sent:\n",
    "        print(token.form, token.upos)\n",
    "    print()"
   ]
  },
  {
   "cell_type": "code",
   "execution_count": 1032,
   "metadata": {
    "ExecuteTime": {
     "end_time": "2019-10-29T19:49:56.916262Z",
     "start_time": "2019-10-29T19:49:56.549806Z"
    },
    "cellId": "tlgfduofakbnva1nlh5dse"
   },
   "outputs": [
    {
     "name": "stdout",
     "output_type": "stream",
     "text": [
      "Наибольшая длина предложения 194\n",
      "Наибольшая длина токена 31\n"
     ]
    }
   ],
   "source": [
    "#!c1.8\n",
    "MAX_SENT_LEN = max(len(sent) for sent in full_train)\n",
    "MAX_ORIG_TOKEN_LEN = max(len(token.form) for sent in full_train for token in sent)\n",
    "print('Наибольшая длина предложения', MAX_SENT_LEN)\n",
    "print('Наибольшая длина токена', MAX_ORIG_TOKEN_LEN)"
   ]
  },
  {
   "cell_type": "code",
   "execution_count": 1033,
   "metadata": {
    "ExecuteTime": {
     "end_time": "2019-10-29T19:49:57.251433Z",
     "start_time": "2019-10-29T19:49:56.919818Z"
    },
    "cellId": "yhmktzo5wfc0y8xqcuaa66"
   },
   "outputs": [
    {
     "name": "stdout",
     "output_type": "stream",
     "text": [
      "Анкета .\n",
      "Начальник областного управления связи Семен Еремеевич был человек простой , приходил на работу всегда вовремя , здоровался с секретаршей за руку и иногда даже писал в стенгазету заметки под псевдонимом \" Муха \" .\n",
      "В приемной его с утра ожидали посетители , - кое-кто с важными делами , а кое-кто и с такими , которые легко можно было решить в нижестоящих инстанциях , не затрудняя Семена Еремеевича .\n",
      "Однако стиль работы Семена Еремеевича заключался в том , чтобы принимать всех желающих и лично вникать в дело .\n",
      "Приемная была обставлена просто , но по-деловому .\n",
      "У двери стоял стол секретарши , на столе - пишущая машинка с широкой кареткой .\n",
      "В углу висел репродуктор и играло радио для развлечения ожидающих и еще для того , чтобы заглушать голос начальника , доносившийся из кабинета , так как , бесспорно , среди посетителей могли находиться и случайные люди .\n",
      "Кабинет отличался скромностью , присущей Семену Еремеевичу .\n",
      "В глубине стоял широкий письменный стол с бронзовыми чернильницами и перед ним два кожаных кресла .\n",
      "Справа был стол для заседаний - длинный , накрытый зеленым сукном и с обеих сторон аккуратно заставленный стульями .\n"
     ]
    }
   ],
   "source": [
    "#!c1.8\n",
    "all_train_texts = [' '.join(token.form for token in sent) for sent in full_train]\n",
    "print('\\n'.join(all_train_texts[:10]))"
   ]
  },
  {
   "cell_type": "code",
   "execution_count": 1035,
   "metadata": {
    "ExecuteTime": {
     "end_time": "2019-10-29T19:49:58.124148Z",
     "start_time": "2019-10-29T19:49:57.254191Z"
    },
    "cellId": "gdhusetk81nkeq55bq44p"
   },
   "outputs": [
    {
     "name": "stdout",
     "output_type": "stream",
     "text": [
      "Количество уникальных символов 142\n",
      "[('<PAD>', 0), (' ', 1), ('о', 2), ('е', 3), ('а', 4), ('т', 5), ('и', 6), ('н', 7), ('.', 8), ('с', 9)]\n"
     ]
    }
   ],
   "source": [
    "#!g1.1\n",
    "train_char_tokenized = tokenize_corpus(all_train_texts, tokenizer=character_tokenize)\n",
    "char_vocab, word_doc_freq = build_vocabulary(train_char_tokenized, max_doc_freq=1.0, min_count=5, pad_word='<PAD>')\n",
    "print(\"Количество уникальных символов\", len(char_vocab))\n",
    "print(list(char_vocab.items())[:10])"
   ]
  },
  {
   "cell_type": "code",
   "execution_count": 1036,
   "metadata": {
    "ExecuteTime": {
     "end_time": "2019-10-29T19:49:58.524125Z",
     "start_time": "2019-10-29T19:49:58.125577Z"
    },
    "cellId": "ijh7ya0lvlhibpj111g2k"
   },
   "outputs": [
    {
     "data": {
      "text/plain": [
       "{'<NOTAG>': 0,\n",
       " 'ADJ': 1,\n",
       " 'ADP': 2,\n",
       " 'ADV': 3,\n",
       " 'AUX': 4,\n",
       " 'CCONJ': 5,\n",
       " 'DET': 6,\n",
       " 'INTJ': 7,\n",
       " 'NOUN': 8,\n",
       " 'NUM': 9,\n",
       " 'PART': 10,\n",
       " 'PRON': 11,\n",
       " 'PROPN': 12,\n",
       " 'PUNCT': 13,\n",
       " 'SCONJ': 14,\n",
       " 'SYM': 15,\n",
       " 'VERB': 16,\n",
       " 'X': 17}"
      ]
     },
     "execution_count": 1036,
     "metadata": {},
     "output_type": "execute_result"
    }
   ],
   "source": [
    "#!g1.1\n",
    "UNIQUE_TAGS = ['<NOTAG>'] + sorted({token.upos for sent in full_train for token in sent if token.upos})\n",
    "label2id = {label: i for i, label in enumerate(UNIQUE_TAGS)}\n",
    "label2id"
   ]
  },
  {
   "cell_type": "code",
   "execution_count": 1037,
   "metadata": {
    "cellId": "8sxafylg9liuji00tinwu"
   },
   "outputs": [],
   "source": [
    "#!c1.8\n",
    "START_WORD_ID = len(char_vocab)\n",
    "END_WORD_ID = len(char_vocab)"
   ]
  },
  {
   "cell_type": "code",
   "execution_count": 1038,
   "metadata": {
    "ExecuteTime": {
     "end_time": "2019-10-29T19:49:58.752672Z",
     "start_time": "2019-10-29T19:49:58.526431Z"
    },
    "cellId": "uznkra4wkqwow0u2hsy7"
   },
   "outputs": [],
   "source": [
    "#!c1.8\n",
    "train_inputs, train_labels = pos_corpus_to_tensor(full_train, char_vocab, label2id, MAX_SENT_LEN, MAX_ORIG_TOKEN_LEN, start_word_id = START_WORD_ID, end_word_id = END_WORD_ID)\n",
    "train_dataset = TensorDataset(train_inputs, train_labels)\n",
    "\n",
    "test_inputs, test_labels = pos_corpus_to_tensor(full_test, char_vocab, label2id, MAX_SENT_LEN, MAX_ORIG_TOKEN_LEN, start_word_id = START_WORD_ID, end_word_id = END_WORD_ID)\n",
    "test_dataset = TensorDataset(test_inputs, test_labels)"
   ]
  },
  {
   "cell_type": "code",
   "execution_count": 1039,
   "metadata": {
    "cellId": "3mtl1tt2i4398aeijhhkci"
   },
   "outputs": [
    {
     "data": {
      "text/plain": [
       "tensor([[142,  38,   4,  25,   4,  11,  19,   7,   6,  13, 142,   0,   0,   0,\n",
       "           0,   0,   0,   0,   0,   0,   0,   0,   0,   0,   0,   0,   0,   0,\n",
       "           0,   0,   0,   0,   0],\n",
       "        [142,   2,  23,  11,   4,   9,   5,   7,   2,  22,   2, 142,   0,   0,\n",
       "           0,   0,   0,   0,   0,   0,   0,   0,   0,   0,   0,   0,   0,   0,\n",
       "           0,   0,   0,   0,   0],\n",
       "        [142,  17,  16,  10,   4,  12,  11,   3,   7,   6,  20, 142,   0,   0,\n",
       "           0,   0,   0,   0,   0,   0,   0,   0,   0,   0,   0,   0,   0,   0,\n",
       "           0,   0,   0,   0,   0],\n",
       "        [142,   9,  12,  20,  21,   6, 142,   0,   0,   0,   0,   0,   0,   0,\n",
       "           0,   0,   0,   0,   0,   0,   0,   0,   0,   0,   0,   0,   0,   0,\n",
       "           0,   0,   0,   0,   0],\n",
       "        [142,  40,   3,  15,   3,   7, 142,   0,   0,   0,   0,   0,   0,   0,\n",
       "           0,   0,   0,   0,   0,   0,   0,   0,   0,   0,   0,   0,   0,   0,\n",
       "           0,   0,   0,   0,   0]])"
      ]
     },
     "execution_count": 1039,
     "metadata": {},
     "output_type": "execute_result"
    }
   ],
   "source": [
    "#!c1.8\n",
    "train_inputs[1][:5]"
   ]
  },
  {
   "cell_type": "code",
   "execution_count": 1040,
   "metadata": {
    "ExecuteTime": {
     "end_time": "2019-10-29T19:49:58.756496Z",
     "start_time": "2019-10-29T19:49:40.711Z"
    },
    "cellId": "3wo3f3ujv37hvdsyexkjua"
   },
   "outputs": [
    {
     "data": {
      "text/plain": [
       "tensor([ 8,  1,  8,  8, 12, 12,  4,  8,  1, 13, 16,  2,  8,  3,  3, 13, 16,  2,\n",
       "         8,  2,  8,  5,  3, 10, 16,  2,  8,  8,  2,  8, 13,  8, 13, 13,  0,  0,\n",
       "         0,  0,  0,  0,  0,  0,  0,  0,  0,  0,  0,  0,  0,  0,  0,  0,  0,  0,\n",
       "         0,  0,  0,  0,  0,  0,  0,  0,  0,  0,  0,  0,  0,  0,  0,  0,  0,  0,\n",
       "         0,  0,  0,  0,  0,  0,  0,  0,  0,  0,  0,  0,  0,  0,  0,  0,  0,  0,\n",
       "         0,  0,  0,  0,  0,  0,  0,  0,  0,  0,  0,  0,  0,  0,  0,  0,  0,  0,\n",
       "         0,  0,  0,  0,  0,  0,  0,  0,  0,  0,  0,  0,  0,  0,  0,  0,  0,  0,\n",
       "         0,  0,  0,  0,  0,  0,  0,  0,  0,  0,  0,  0,  0,  0,  0,  0,  0,  0,\n",
       "         0,  0,  0,  0,  0,  0,  0,  0,  0,  0,  0,  0,  0,  0,  0,  0,  0,  0,\n",
       "         0,  0,  0,  0,  0,  0,  0,  0,  0,  0,  0,  0,  0,  0,  0,  0,  0,  0,\n",
       "         0,  0,  0,  0,  0,  0,  0,  0,  0,  0,  0,  0,  0,  0])"
      ]
     },
     "execution_count": 1040,
     "metadata": {},
     "output_type": "execute_result"
    }
   ],
   "source": [
    "#!c1.8\n",
    "train_labels[1]"
   ]
  },
  {
   "cell_type": "code",
   "execution_count": 271,
   "metadata": {
    "cellId": "65gdv9uuh5qst41zvx8g3",
    "jupyter": {
     "source_hidden": true
    }
   },
   "outputs": [],
   "source": [
    "# #!c1.8\n",
    "# torch.save(train_inputs, './stepik-dl-nlp/datasets/train_inputs_dataset_postag.pt')\n",
    "# torch.save(train_labels, './stepik-dl-nlp/datasets/train_labels_dataset_postag.pt')\n",
    "# torch.save(test_inputs, './stepik-dl-nlp/datasets/test_inputs_dataset_postag.pt')\n",
    "# torch.save(test_labels, './stepik-dl-nlp/datasets/test_labels_dataset_postag.pt')\n",
    "\n",
    "# import pickle\n",
    "\n",
    "# with open('./stepik-dl-nlp/datasets/char_vocab_postag.pt', 'wb') as f:\n",
    "#     pickle.dump(char_vocab, f)\n",
    "    \n",
    "# with open('./stepik-dl-nlp/datasets/label2id_postag.pt', 'wb') as f:\n",
    "#     pickle.dump(label2id, f)"
   ]
  },
  {
   "cell_type": "code",
   "execution_count": 733,
   "metadata": {
    "cellId": "6a7p15scy7addiwoecv1d",
    "jupyter": {
     "source_hidden": true
    }
   },
   "outputs": [],
   "source": [
    "# #!c1.8\n",
    "# train_inputs = torch.load('./stepik-dl-nlp/datasets/train_inputs_dataset_postag.pt')\n",
    "# train_labels = torch.load('./stepik-dl-nlp/datasets/train_labels_dataset_postag.pt')\n",
    "# test_inputs = torch.load('./stepik-dl-nlp/datasets/test_inputs_dataset_postag.pt')\n",
    "# test_labels = torch.load('./stepik-dl-nlp/datasets/test_labels_dataset_postag.pt')\n",
    "\n",
    "# train_dataset = TensorDataset(train_inputs, train_labels)\n",
    "# test_dataset = TensorDataset(test_inputs, test_labels)\n",
    "\n",
    "# import pickle\n",
    "\n",
    "# with open('./stepik-dl-nlp/datasets/char_vocab_postag.pt', 'rb') as f:\n",
    "#     char_vocab = pickle.load(f)\n",
    "\n",
    "# # with open('./stepik-dl-nlp/datasets/label2id_postag.pt', 'rb') as file:\n",
    "# #     label2id = pickle.load(file)"
   ]
  },
  {
   "cell_type": "markdown",
   "metadata": {
    "cellId": "f81xb8fuwno6isu29qqal2"
   },
   "source": [
    "## Вспомогательная свёрточная архитектура"
   ]
  },
  {
   "cell_type": "code",
   "execution_count": 1041,
   "metadata": {
    "ExecuteTime": {
     "end_time": "2019-10-29T19:47:48.316516Z",
     "start_time": "2019-10-29T19:46:17.539Z"
    },
    "cellId": "jqupmvergbib8tw4ys3rn"
   },
   "outputs": [],
   "source": [
    "#!c1.8\n",
    "class StackedConv1d(nn.Module):\n",
    "    def __init__(self, features_num, layers_n=1, kernels=3, conv_layer=nn.Conv1d, dropout=0.0, dilations=1):\n",
    "        super().__init__()\n",
    "        layers = []\n",
    "        for i in range(layers_n):\n",
    "            l_kernel = kernels if isinstance(kernels, int) else kernels[i]\n",
    "            l_dilation = dilations if isinstance(dilations, int) else dilations[i]\n",
    "            l_padding = (l_kernel - 1) * l_dilation//2\n",
    "            \n",
    "            layers.append(nn.Sequential(\n",
    "                conv_layer(features_num, features_num, l_kernel, padding=l_padding, dilation=l_dilation),\n",
    "                nn.Dropout(dropout),\n",
    "#                 nn.BatchNorm1d(features_num, affine=True),\n",
    "                nn.LeakyReLU(),\n",
    "            ))\n",
    "            \n",
    "        self.layers = nn.ModuleList(layers)\n",
    "    \n",
    "    def forward(self, x):\n",
    "        \"\"\"x - BatchSize x FeaturesNum x SequenceLen\"\"\"\n",
    "        for layer in self.layers:\n",
    "            x = x + layer(x)\n",
    "        return x"
   ]
  },
  {
   "cell_type": "markdown",
   "metadata": {
    "cellId": "2842v34uxaw5oa7advionb",
    "jupyter": {
     "source_hidden": true
    }
   },
   "source": [
    "## Предсказание частей речи на уровне отдельных токенов"
   ]
  },
  {
   "cell_type": "code",
   "execution_count": null,
   "metadata": {
    "ExecuteTime": {
     "end_time": "2019-10-29T19:47:48.317452Z",
     "start_time": "2019-10-29T19:46:23.135Z"
    },
    "cellId": "33p33xioysrspskijc2vuk",
    "jupyter": {
     "source_hidden": true
    }
   },
   "outputs": [],
   "source": [
    "#!c1.8\n",
    "class SingleTokenPOSTagger(nn.Module):\n",
    "    def __init__(self, vocab_size, labels_num, embedding_size=32, **kwargs):\n",
    "        super().__init__()\n",
    "        self.char_embeddings = nn.Embedding(vocab_size, embedding_size, padding_idx=0)\n",
    "        self.backbone = StackedConv1d(embedding_size, **kwargs)\n",
    "        self.global_pooling = nn.AdaptiveMaxPool1d(1)\n",
    "        self.out = nn.Linear(embedding_size, labels_num)\n",
    "        self.labels_num = labels_num\n",
    "    \n",
    "    def forward(self, tokens):\n",
    "        \"\"\"tokens - BatchSize x MaxSentenceLen x MaxTokenLen\"\"\"\n",
    "        batch_size, max_sent_len, max_token_len = tokens.shape\n",
    "        tokens_flat = tokens.view(batch_size * max_sent_len, max_token_len)\n",
    "        \n",
    "        char_embeddings = self.char_embeddings(tokens_flat)  # BatchSize*MaxSentenceLen x MaxTokenLen x EmbSize\n",
    "        char_embeddings = char_embeddings.permute(0, 2, 1)  # BatchSize*MaxSentenceLen x EmbSize x MaxTokenLen\n",
    "        \n",
    "        features = self.backbone(char_embeddings)\n",
    "        \n",
    "        global_features = self.global_pooling(features).squeeze(-1)  # BatchSize*MaxSentenceLen x EmbSize\n",
    "        \n",
    "        logits_flat = self.out(global_features)  # BatchSize*MaxSentenceLen x LabelsNum\n",
    "        logits = logits_flat.view(batch_size, max_sent_len, self.labels_num)  # BatchSize x MaxSentenceLen x LabelsNum\n",
    "        logits = logits.permute(0, 2, 1)  # BatchSize x LabelsNum x MaxSentenceLen\n",
    "        return logits"
   ]
  },
  {
   "cell_type": "code",
   "execution_count": null,
   "metadata": {
    "ExecuteTime": {
     "end_time": "2019-10-29T19:47:48.318497Z",
     "start_time": "2019-10-29T19:46:23.764Z"
    },
    "cellId": "a7rgombh7hbqgo0s9j6ldk",
    "jupyter": {
     "source_hidden": true
    }
   },
   "outputs": [],
   "source": [
    "#!g1.1\n",
    "single_token_model = SingleTokenPOSTagger(len(char_vocab), len(label2id), embedding_size=64, layers_n=3, kernel_size=3, dropout=0.3)\n",
    "print('Количество параметров', sum(np.product(t.shape) for t in single_token_model.parameters()))"
   ]
  },
  {
   "cell_type": "code",
   "execution_count": null,
   "metadata": {
    "ExecuteTime": {
     "end_time": "2019-10-29T19:47:48.319470Z",
     "start_time": "2019-10-29T19:46:25.552Z"
    },
    "cellId": "7yb1nu92l1hc7yiv4toxov",
    "jupyter": {
     "source_hidden": true
    }
   },
   "outputs": [],
   "source": [
    "#!g1.1\n",
    "(best_val_loss,\n",
    " best_single_token_model) = train_eval_loop(single_token_model,\n",
    "                                            train_dataset,\n",
    "                                            test_dataset,\n",
    "                                            F.cross_entropy,\n",
    "                                            lr=5e-3,\n",
    "                                            epoch_n=10,\n",
    "                                            batch_size=64,\n",
    "                                            device='cuda',\n",
    "                                            early_stopping_patience=5,\n",
    "                                            max_batches_per_epoch_train=500,\n",
    "                                            max_batches_per_epoch_val=100,\n",
    "                                            lr_scheduler_ctor=lambda optim: torch.optim.lr_scheduler.ReduceLROnPlateau(optim, patience=2,\n",
    "                                                                                                                       factor=0.5,\n",
    "                                                                                                                       verbose=True))"
   ]
  },
  {
   "cell_type": "code",
   "execution_count": 145,
   "metadata": {
    "ExecuteTime": {
     "end_time": "2019-10-29T19:47:48.320568Z",
     "start_time": "2019-10-29T19:46:47.579Z"
    },
    "cellId": "wf7kngcljcgvqmko9zt0qr",
    "jupyter": {
     "source_hidden": true
    }
   },
   "outputs": [],
   "source": [
    "#!c1.8\n",
    "# Если Вы запускаете ноутбук на colab или kaggle, добавьте в начало пути ./stepik-dl-nlp\n",
    "# torch.save(best_single_token_model.state_dict(), './models/single_token_pos.pth')"
   ]
  },
  {
   "cell_type": "code",
   "execution_count": null,
   "metadata": {
    "ExecuteTime": {
     "end_time": "2019-10-29T19:47:48.321566Z",
     "start_time": "2019-10-29T19:46:47.731Z"
    },
    "cellId": "zhjqmi2cf2agp2q3cv0dww",
    "jupyter": {
     "source_hidden": true
    }
   },
   "outputs": [],
   "source": [
    "#!c1.8\n",
    "# Если Вы запускаете ноутбук на colab или kaggle, добавьте в начало пути ./stepik-dl-nlp\n",
    "# single_token_model.load_state_dict(torch.load('./models/single_token_pos.pth'))"
   ]
  },
  {
   "cell_type": "code",
   "execution_count": null,
   "metadata": {
    "cellId": "32dzhka5lrqpje57n1aj9",
    "jupyter": {
     "source_hidden": true
    }
   },
   "outputs": [],
   "source": [
    "#!g1.1\n",
    "single_token_model = best_single_token_model"
   ]
  },
  {
   "cell_type": "code",
   "execution_count": null,
   "metadata": {
    "ExecuteTime": {
     "end_time": "2019-10-29T19:47:48.324276Z",
     "start_time": "2019-10-29T19:46:48.445Z"
    },
    "cellId": "gc2olr6cavrot8t0qx634",
    "jupyter": {
     "source_hidden": true
    }
   },
   "outputs": [],
   "source": [
    "#!g1.1\n",
    "train_pred = predict_with_model(single_token_model, train_dataset)\n",
    "train_loss = F.cross_entropy(torch.tensor(train_pred),\n",
    "                             torch.tensor(train_labels))\n",
    "print('Среднее значение функции потерь на обучении', float(train_loss))\n",
    "print(classification_report(train_labels.view(-1), train_pred.argmax(1).reshape(-1), target_names=UNIQUE_TAGS))\n",
    "print()\n",
    "\n",
    "test_pred = predict_with_model(single_token_model, test_dataset)\n",
    "test_loss = F.cross_entropy(torch.tensor(test_pred),\n",
    "                            torch.tensor(test_labels))\n",
    "print('Среднее значение функции потерь на валидации', float(test_loss))\n",
    "print(classification_report(test_labels.view(-1), test_pred.argmax(1).reshape(-1), target_names=UNIQUE_TAGS))"
   ]
  },
  {
   "cell_type": "markdown",
   "metadata": {
    "cellId": "s0yc7vqix3lnaqbd0dx4i"
   },
   "source": [
    "## Предсказание частей речи на уровне предложений (с учётом контекста)"
   ]
  },
  {
   "cell_type": "code",
   "execution_count": 1042,
   "metadata": {
    "ExecuteTime": {
     "end_time": "2019-10-29T19:47:48.325744Z",
     "start_time": "2019-10-29T19:46:50.139Z"
    },
    "cellId": "gns1qaer0pg1kkkub83w"
   },
   "outputs": [],
   "source": [
    "#!c1.8\n",
    "class SentenceLevelPOSTagger(nn.Module):\n",
    "    def __init__(self, vocab_size, labels_num, embedding_size=32, single_backbone_kwargs={}, context_backbone_kwargs={}):\n",
    "        super().__init__()\n",
    "        self.embedding_size = embedding_size\n",
    "        self.char_embeddings = nn.Embedding(vocab_size, embedding_size, padding_idx=0)\n",
    "        self.single_token_backbone = StackedConv1d(embedding_size, **single_backbone_kwargs)\n",
    "        self.context_backbone = StackedConv1d(embedding_size, **context_backbone_kwargs)\n",
    "        self.global_pooling = nn.AdaptiveMaxPool1d(1)\n",
    "        self.out = nn.Conv1d(embedding_size, labels_num, 1)\n",
    "        self.labels_num = labels_num\n",
    "    \n",
    "    def forward(self, tokens):\n",
    "        \"\"\"tokens - BatchSize x MaxSentenceLen x MaxTokenLen\"\"\"\n",
    "        batch_size, max_sent_len, max_token_len = tokens.shape\n",
    "        tokens_flat = tokens.view(batch_size * max_sent_len, max_token_len)\n",
    "        \n",
    "        char_embeddings = self.char_embeddings(tokens_flat)  # BatchSize*MaxSentenceLen x MaxTokenLen x EmbSize\n",
    "        char_embeddings = char_embeddings.permute(0, 2, 1)  # BatchSize*MaxSentenceLen x EmbSize x MaxTokenLen\n",
    "        char_features = self.single_token_backbone(char_embeddings)\n",
    "        \n",
    "        token_features_flat = self.global_pooling(char_features).squeeze(-1)  # BatchSize*MaxSentenceLen x EmbSize\n",
    "\n",
    "        token_features = token_features_flat.view(batch_size, max_sent_len, self.embedding_size)  # BatchSize x MaxSentenceLen x EmbSize\n",
    "        token_features = token_features.permute(0, 2, 1)  # BatchSize x EmbSize x MaxSentenceLen\n",
    "        context_features = self.context_backbone(token_features)  # BatchSize x EmbSize x MaxSentenceLen\n",
    "\n",
    "        logits = self.out(context_features)  # BatchSize x LabelsNum x MaxSentenceLen\n",
    "        return logits"
   ]
  },
  {
   "cell_type": "code",
   "execution_count": 1043,
   "metadata": {
    "ExecuteTime": {
     "end_time": "2019-10-29T19:47:48.326925Z",
     "start_time": "2019-10-29T19:46:50.310Z"
    },
    "cellId": "gskyshgnachfvqly54448q"
   },
   "outputs": [
    {
     "name": "stdout",
     "output_type": "stream",
     "text": [
      "Настройки: EPOCH_N = 100, EMB_SIZE = 128, LAYERS_N = 5, KERNELS = [3, 5, 5, 5, 5], DILATIONS = [1, 2, 2, 3, 3], DROPOUT = 0.6, BATCH_NORMALIZATION = False\n",
      "Количество параметров: 775570\n"
     ]
    }
   ],
   "source": [
    "#!g1.1\n",
    "\n",
    "# Изначальные настройки\n",
    "# EPOCH_N = 10\n",
    "# EMB_SIZE = 64\n",
    "# DROPOUT = 0.3\n",
    "# LAYERS_N = 3\n",
    "# KERNELS = 3\n",
    "# DILATIONS = 1\n",
    "# BATCH_NORMALIZATION = False\n",
    "\n",
    "# Итоговые настройки\n",
    "EPOCH_N = 100\n",
    "EMB_SIZE = 128\n",
    "DROPOUT = 0.6\n",
    "LAYERS_N = 5\n",
    "KERNELS = [3, 5, 5, 5, 5]\n",
    "DILATIONS = [1, 2, 2, 3, 3]\n",
    "BATCH_NORMALIZATION = False\n",
    "\n",
    "sentence_level_model = SentenceLevelPOSTagger(len(char_vocab) + 1, len(label2id), embedding_size=EMB_SIZE,\n",
    "                                              single_backbone_kwargs=dict(layers_n=LAYERS_N, kernels=KERNELS, dropout=DROPOUT, dilations=DILATIONS),\n",
    "                                              context_backbone_kwargs=dict(layers_n=LAYERS_N, kernels=KERNELS, dropout=DROPOUT, dilations=DILATIONS))\n",
    "\n",
    "print(f\"Настройки: EPOCH_N = {EPOCH_N}, EMB_SIZE = {EMB_SIZE}, LAYERS_N = {LAYERS_N}, KERNELS = {KERNELS}, DILATIONS = {DILATIONS}, DROPOUT = {DROPOUT}, BATCH_NORMALIZATION = {BATCH_NORMALIZATION}\")\n",
    "print('Количество параметров:', sum(np.product(t.shape) for t in sentence_level_model.parameters()))"
   ]
  },
  {
   "cell_type": "markdown",
   "metadata": {
    "cellId": "7n21omaha3np7j2zfdx46a",
    "jupyter": {
     "source_hidden": true
    }
   },
   "source": [
    "### Взвешивание классов"
   ]
  },
  {
   "cell_type": "code",
   "execution_count": 737,
   "metadata": {
    "cellId": "efd6t04b1t740cv775fi2t",
    "jupyter": {
     "source_hidden": true
    }
   },
   "outputs": [],
   "source": [
    "#!c1.8\n",
    "from sklearn.utils.class_weight import compute_class_weight\n",
    "class_weights=compute_class_weight('balanced',np.unique(train_labels),train_labels.numpy().ravel())\n",
    "class_weights=torch.tensor(class_weights,dtype=torch.float)"
   ]
  },
  {
   "cell_type": "code",
   "execution_count": 1044,
   "metadata": {
    "ExecuteTime": {
     "end_time": "2019-10-29T19:47:48.327888Z",
     "start_time": "2019-10-29T19:46:50.737Z"
    },
    "cellId": "tb0hife7osg0bas06fgrj"
   },
   "outputs": [
    {
     "name": "stderr",
     "output_type": "stream",
     "text": [
      "[nltk_data] Downloading package omw-1.4 to /home/jupyter/nltk_data...\n",
      "[nltk_data]   Package omw-1.4 is already up-to-date!\n"
     ]
    },
    {
     "name": "stdout",
     "output_type": "stream",
     "text": [
      "Эпоха 0\n",
      "Эпоха: 384 итераций, 50.15 сек\n",
      "Среднее значение функции потерь на обучении 0.2512350682518445\n",
      "Среднее значение функции потерь на валидации 0.049622557411837104\n",
      "Новая лучшая модель!\n",
      "\n",
      "Эпоха 1\n",
      "Эпоха: 384 итераций, 48.44 сек\n",
      "Среднее значение функции потерь на обучении 0.03677669228394128\n",
      "Среднее значение функции потерь на валидации 0.032596804939284185\n",
      "Новая лучшая модель!\n",
      "\n",
      "Эпоха 2\n",
      "Эпоха: 384 итераций, 48.55 сек\n",
      "Среднее значение функции потерь на обучении 0.02897957497771131\n",
      "Среднее значение функции потерь на валидации 0.025268050897313227\n",
      "Новая лучшая модель!\n",
      "\n",
      "Эпоха 3\n",
      "Эпоха: 384 итераций, 48.62 сек\n",
      "Среднее значение функции потерь на обучении 0.025338300154544413\n",
      "Среднее значение функции потерь на валидации 0.021916042801250916\n",
      "Новая лучшая модель!\n",
      "\n",
      "Эпоха 4\n",
      "Эпоха: 384 итераций, 48.72 сек\n",
      "Среднее значение функции потерь на обучении 0.02348013773977679\n",
      "Среднее значение функции потерь на валидации 0.020656871812252123\n",
      "Новая лучшая модель!\n",
      "\n",
      "Эпоха 5\n",
      "Эпоха: 384 итераций, 48.75 сек\n",
      "Среднее значение функции потерь на обучении 0.022293521443013258\n",
      "Среднее значение функции потерь на валидации 0.018290165258516178\n",
      "Новая лучшая модель!\n",
      "\n",
      "Эпоха 6\n",
      "Эпоха: 384 итераций, 48.76 сек\n",
      "Среднее значение функции потерь на обучении 0.021019928698175743\n",
      "Среднее значение функции потерь на валидации 0.01677435834772221\n",
      "Новая лучшая модель!\n",
      "\n",
      "Эпоха 7\n",
      "Эпоха: 384 итераций, 48.79 сек\n",
      "Среднее значение функции потерь на обучении 0.020468879309191834\n",
      "Среднее значение функции потерь на валидации 0.016832257980609885\n",
      "\n",
      "Эпоха 8\n",
      "Эпоха: 384 итераций, 48.80 сек\n",
      "Среднее значение функции потерь на обучении 0.019891733633509528\n",
      "Среднее значение функции потерь на валидации 0.01601096644702524\n",
      "Новая лучшая модель!\n",
      "\n",
      "Эпоха 9\n",
      "Эпоха: 384 итераций, 48.84 сек\n",
      "Среднее значение функции потерь на обучении 0.019840849890897516\n",
      "Среднее значение функции потерь на валидации 0.015447243098353986\n",
      "Новая лучшая модель!\n",
      "\n",
      "Эпоха 10\n",
      "Эпоха: 384 итераций, 48.83 сек\n",
      "Среднее значение функции потерь на обучении 0.019615841018094216\n",
      "Среднее значение функции потерь на валидации 0.014605304240110781\n",
      "Новая лучшая модель!\n",
      "\n",
      "Эпоха 11\n",
      "Эпоха: 384 итераций, 48.81 сек\n",
      "Среднее значение функции потерь на обучении 0.019478422839407965\n",
      "Среднее значение функции потерь на валидации 0.01488671332855921\n",
      "\n",
      "Эпоха 12\n",
      "Эпоха: 384 итераций, 48.79 сек\n",
      "Среднее значение функции потерь на обучении 0.01953517068371487\n",
      "Среднее значение функции потерь на валидации 0.014675085506595598\n",
      "\n",
      "Эпоха 13\n",
      "Эпоха: 384 итераций, 48.78 сек\n",
      "Среднее значение функции потерь на обучении 0.019896090341111023\n",
      "Среднее значение функции потерь на валидации 0.016063090303156634\n",
      "Epoch    14: reducing learning rate of group 0 to 2.5000e-03.\n",
      "\n",
      "Эпоха 14\n",
      "Эпоха: 384 итераций, 48.78 сек\n",
      "Среднее значение функции потерь на обучении 0.016943410225697637\n",
      "Среднее значение функции потерь на валидации 0.013024815436600163\n",
      "Новая лучшая модель!\n",
      "\n",
      "Эпоха 15\n",
      "Эпоха: 384 итераций, 48.76 сек\n",
      "Среднее значение функции потерь на обучении 0.015648495444717508\n",
      "Среднее значение функции потерь на валидации 0.013128469107986087\n",
      "\n",
      "Эпоха 16\n",
      "Эпоха: 384 итераций, 48.76 сек\n",
      "Среднее значение функции потерь на обучении 0.015260669784765923\n",
      "Среднее значение функции потерь на валидации 0.012157517706624942\n",
      "Новая лучшая модель!\n",
      "\n",
      "Эпоха 17\n",
      "Эпоха: 384 итераций, 48.72 сек\n",
      "Среднее значение функции потерь на обучении 0.015106974002264906\n",
      "Среднее значение функции потерь на валидации 0.011751050447657852\n",
      "Новая лучшая модель!\n",
      "\n",
      "Эпоха 18\n",
      "Эпоха: 384 итераций, 48.74 сек\n",
      "Среднее значение функции потерь на обучении 0.015169935645341562\n",
      "Среднее значение функции потерь на валидации 0.012484157282748435\n",
      "\n",
      "Эпоха 19\n",
      "Эпоха: 384 итераций, 48.79 сек\n",
      "Среднее значение функции потерь на обучении 0.015130729577019034\n",
      "Среднее значение функции потерь на валидации 0.012046048371582338\n",
      "\n",
      "Эпоха 20\n",
      "Эпоха: 384 итераций, 48.80 сек\n",
      "Среднее значение функции потерь на обучении 0.015159557199998138\n",
      "Среднее значение функции потерь на валидации 0.011785427583289324\n",
      "Epoch    21: reducing learning rate of group 0 to 1.2500e-03.\n",
      "\n",
      "Эпоха 21\n",
      "Эпоха: 384 итераций, 48.79 сек\n",
      "Среднее значение функции потерь на обучении 0.013464935390705554\n",
      "Среднее значение функции потерь на валидации 0.010962800302607293\n",
      "Новая лучшая модель!\n",
      "\n",
      "Эпоха 22\n",
      "Эпоха: 384 итераций, 48.80 сек\n",
      "Среднее значение функции потерь на обучении 0.012696368675581956\n",
      "Среднее значение функции потерь на валидации 0.01061408803567733\n",
      "Новая лучшая модель!\n",
      "\n",
      "Эпоха 23\n",
      "Эпоха: 384 итераций, 48.79 сек\n",
      "Среднее значение функции потерь на обучении 0.012496110164647689\n",
      "Среднее значение функции потерь на валидации 0.010590524094566555\n",
      "Новая лучшая модель!\n",
      "\n",
      "Эпоха 24\n",
      "Эпоха: 384 итераций, 48.81 сек\n",
      "Среднее значение функции потерь на обучении 0.012322104765189579\n",
      "Среднее значение функции потерь на валидации 0.01061789383466291\n",
      "\n",
      "Эпоха 25\n",
      "Эпоха: 384 итераций, 48.82 сек\n",
      "Среднее значение функции потерь на обучении 0.012299132609769003\n",
      "Среднее значение функции потерь на валидации 0.010529911993901329\n",
      "Новая лучшая модель!\n",
      "\n",
      "Эпоха 26\n",
      "Эпоха: 384 итераций, 48.80 сек\n",
      "Среднее значение функции потерь на обучении 0.012079702518046057\n",
      "Среднее значение функции потерь на валидации 0.010276471813310786\n",
      "Новая лучшая модель!\n",
      "\n",
      "Эпоха 27\n",
      "Эпоха: 384 итераций, 48.79 сек\n",
      "Среднее значение функции потерь на обучении 0.011931412545285033\n",
      "Среднее значение функции потерь на валидации 0.010121201916533236\n",
      "Новая лучшая модель!\n",
      "\n",
      "Эпоха 28\n",
      "Эпоха: 384 итераций, 48.74 сек\n",
      "Среднее значение функции потерь на обучении 0.011876395328727085\n",
      "Среднее значение функции потерь на валидации 0.009937659007414142\n",
      "Новая лучшая модель!\n",
      "\n",
      "Эпоха 29\n",
      "Эпоха: 384 итераций, 48.77 сек\n",
      "Среднее значение функции потерь на обучении 0.011837893716195444\n",
      "Среднее значение функции потерь на валидации 0.009912080449596196\n",
      "Новая лучшая модель!\n",
      "\n",
      "Эпоха 30\n",
      "Эпоха: 384 итераций, 48.75 сек\n",
      "Среднее значение функции потерь на обучении 0.011708193881834935\n",
      "Среднее значение функции потерь на валидации 0.009888622052229868\n",
      "Новая лучшая модель!\n",
      "\n",
      "Эпоха 31\n",
      "Эпоха: 384 итераций, 48.76 сек\n",
      "Среднее значение функции потерь на обучении 0.011692617261966612\n",
      "Среднее значение функции потерь на валидации 0.009828672642902573\n",
      "Новая лучшая модель!\n",
      "\n",
      "Эпоха 32\n",
      "Эпоха: 384 итераций, 48.79 сек\n",
      "Среднее значение функции потерь на обучении 0.01154058399212469\n",
      "Среднее значение функции потерь на валидации 0.0097969880115499\n",
      "Новая лучшая модель!\n",
      "\n",
      "Эпоха 33\n",
      "Эпоха: 384 итераций, 48.79 сек\n",
      "Среднее значение функции потерь на обучении 0.011421295080557078\n",
      "Среднее значение функции потерь на валидации 0.009748154140012984\n",
      "Новая лучшая модель!\n",
      "\n",
      "Эпоха 34\n",
      "Эпоха: 384 итераций, 48.75 сек\n",
      "Среднее значение функции потерь на обучении 0.01164163868088508\n",
      "Среднее значение функции потерь на валидации 0.0099633393606337\n",
      "\n",
      "Эпоха 35\n",
      "Эпоха: 384 итераций, 48.77 сек\n",
      "Среднее значение функции потерь на обучении 0.011424316641447755\n",
      "Среднее значение функции потерь на валидации 0.009588942567974624\n",
      "Новая лучшая модель!\n",
      "\n",
      "Эпоха 36\n",
      "Эпоха: 384 итераций, 48.76 сек\n",
      "Среднее значение функции потерь на обучении 0.011390785436863856\n",
      "Среднее значение функции потерь на валидации 0.009702536300525512\n",
      "\n",
      "Эпоха 37\n",
      "Эпоха: 384 итераций, 48.80 сек\n",
      "Среднее значение функции потерь на обучении 0.011196047429014774\n",
      "Среднее значение функции потерь на валидации 0.009533952940070983\n",
      "Новая лучшая модель!\n",
      "\n",
      "Эпоха 38\n",
      "Эпоха: 384 итераций, 48.78 сек\n",
      "Среднее значение функции потерь на обучении 0.011146711331093684\n",
      "Среднее значение функции потерь на валидации 0.009557751214850953\n",
      "\n",
      "Эпоха 39\n",
      "Эпоха: 384 итераций, 48.77 сек\n",
      "Среднее значение функции потерь на обучении 0.011023423539275731\n",
      "Среднее значение функции потерь на валидации 0.00935202808866259\n",
      "Новая лучшая модель!\n",
      "\n",
      "Эпоха 40\n",
      "Эпоха: 384 итераций, 48.75 сек\n",
      "Среднее значение функции потерь на обучении 0.011121037816337775\n",
      "Среднее значение функции потерь на валидации 0.009411599081341582\n",
      "\n",
      "Эпоха 41\n",
      "Эпоха: 384 итераций, 48.76 сек\n",
      "Среднее значение функции потерь на обучении 0.011045853680116124\n",
      "Среднее значение функции потерь на валидации 0.009279032200943716\n",
      "Новая лучшая модель!\n",
      "\n",
      "Эпоха 42\n",
      "Эпоха: 384 итераций, 48.79 сек\n",
      "Среднее значение функции потерь на обучении 0.011089901498053223\n",
      "Среднее значение функции потерь на валидации 0.009239674702581793\n",
      "Новая лучшая модель!\n",
      "\n",
      "Эпоха 43\n",
      "Эпоха: 384 итераций, 48.73 сек\n",
      "Среднее значение функции потерь на обучении 0.0108510485891505\n",
      "Среднее значение функции потерь на валидации 0.00900616495418224\n",
      "Новая лучшая модель!\n",
      "\n",
      "Эпоха 44\n",
      "Эпоха: 384 итераций, 48.74 сек\n",
      "Среднее значение функции потерь на обучении 0.010968303443708768\n",
      "Среднее значение функции потерь на валидации 0.009471250204646056\n",
      "\n",
      "Эпоха 45\n",
      "Эпоха: 384 итераций, 48.75 сек\n",
      "Среднее значение функции потерь на обучении 0.010805490106577054\n",
      "Среднее значение функции потерь на валидации 0.008905375634532163\n",
      "Новая лучшая модель!\n",
      "\n",
      "Эпоха 46\n",
      "Эпоха: 384 итераций, 48.74 сек\n",
      "Среднее значение функции потерь на обучении 0.010846127118081009\n",
      "Среднее значение функции потерь на валидации 0.009305673951080234\n",
      "\n",
      "Эпоха 47\n",
      "Эпоха: 384 итераций, 48.75 сек\n",
      "Среднее значение функции потерь на обучении 0.010835750463835817\n",
      "Среднее значение функции потерь на валидации 0.009532251114044155\n",
      "\n",
      "Эпоха 48\n",
      "Эпоха: 384 итераций, 48.73 сек\n",
      "Среднее значение функции потерь на обучении 0.010739938117088363\n",
      "Среднее значение функции потерь на валидации 0.00914707429485746\n",
      "Epoch    49: reducing learning rate of group 0 to 6.2500e-04.\n",
      "\n",
      "Эпоха 49\n",
      "Эпоха: 384 итераций, 48.74 сек\n",
      "Среднее значение функции потерь на обучении 0.010008428734484673\n",
      "Среднее значение функции потерь на валидации 0.008711660723432456\n",
      "Новая лучшая модель!\n",
      "\n",
      "Эпоха 50\n",
      "Эпоха: 384 итераций, 48.75 сек\n",
      "Среднее значение функции потерь на обучении 0.009770392965341065\n",
      "Среднее значение функции потерь на валидации 0.008804155642738436\n",
      "\n",
      "Эпоха 51\n",
      "Эпоха: 384 итераций, 48.71 сек\n",
      "Среднее значение функции потерь на обучении 0.009650539763242705\n",
      "Среднее значение функции потерь на валидации 0.008774989489742582\n",
      "\n",
      "Эпоха 52\n",
      "Эпоха: 384 итераций, 48.74 сек\n",
      "Среднее значение функции потерь на обучении 0.00951111768881674\n",
      "Среднее значение функции потерь на валидации 0.008711896099076412\n",
      "Epoch    53: reducing learning rate of group 0 to 3.1250e-04.\n",
      "\n",
      "Эпоха 53\n",
      "Эпоха: 384 итераций, 48.72 сек\n",
      "Среднее значение функции потерь на обучении 0.00903228359068938\n",
      "Среднее значение функции потерь на валидации 0.00855610778527611\n",
      "Новая лучшая модель!\n",
      "\n",
      "Эпоха 54\n",
      "Эпоха: 384 итераций, 48.73 сек\n",
      "Среднее значение функции потерь на обучении 0.008940770484817525\n",
      "Среднее значение функции потерь на валидации 0.00848506238210098\n",
      "Новая лучшая модель!\n",
      "\n",
      "Эпоха 55\n",
      "Эпоха: 384 итераций, 48.72 сек\n",
      "Среднее значение функции потерь на обучении 0.008858755166632667\n",
      "Среднее значение функции потерь на валидации 0.008476057827546455\n",
      "Новая лучшая модель!\n",
      "\n",
      "Эпоха 56\n",
      "Эпоха: 384 итераций, 48.72 сек\n",
      "Среднее значение функции потерь на обучении 0.008721642353824185\n",
      "Среднее значение функции потерь на валидации 0.008342335618442238\n",
      "Новая лучшая модель!\n",
      "\n",
      "Эпоха 57\n",
      "Эпоха: 384 итераций, 48.71 сек\n",
      "Среднее значение функции потерь на обучении 0.008730298988666618\n",
      "Среднее значение функции потерь на валидации 0.008442682207165526\n",
      "\n",
      "Эпоха 58\n",
      "Эпоха: 384 итераций, 48.73 сек\n",
      "Среднее значение функции потерь на обучении 0.008717826724023325\n",
      "Среднее значение функции потерь на валидации 0.008300906238561072\n",
      "Новая лучшая модель!\n",
      "\n",
      "Эпоха 59\n",
      "Эпоха: 384 итераций, 48.72 сек\n",
      "Среднее значение функции потерь на обучении 0.008561088978922271\n",
      "Среднее значение функции потерь на валидации 0.008234042990122838\n",
      "Новая лучшая модель!\n",
      "\n",
      "Эпоха 60\n",
      "Эпоха: 384 итераций, 48.73 сек\n",
      "Среднее значение функции потерь на обучении 0.008558138837543083\n",
      "Среднее значение функции потерь на валидации 0.008306490829085359\n",
      "\n",
      "Эпоха 61\n",
      "Эпоха: 384 итераций, 48.73 сек\n",
      "Среднее значение функции потерь на обучении 0.008562183127651224\n",
      "Среднее значение функции потерь на валидации 0.008128226916812876\n",
      "Новая лучшая модель!\n",
      "\n",
      "Эпоха 62\n",
      "Эпоха: 384 итераций, 48.72 сек\n",
      "Среднее значение функции потерь на обучении 0.008462010291016972\n",
      "Среднее значение функции потерь на валидации 0.00833415831346987\n",
      "\n",
      "Эпоха 63\n",
      "Эпоха: 384 итераций, 48.73 сек\n",
      "Среднее значение функции потерь на обучении 0.008490663964039413\n",
      "Среднее значение функции потерь на валидации 0.008178806845283155\n",
      "\n",
      "Эпоха 64\n",
      "Эпоха: 384 итераций, 48.73 сек\n",
      "Среднее значение функции потерь на обучении 0.008431124359049136\n",
      "Среднее значение функции потерь на валидации 0.008207584871901291\n",
      "Epoch    65: reducing learning rate of group 0 to 1.5625e-04.\n",
      "\n",
      "Эпоха 65\n",
      "Эпоха: 384 итераций, 48.74 сек\n",
      "Среднее значение функции потерь на обучении 0.008329528197161077\n",
      "Среднее значение функции потерь на валидации 0.008157661327594283\n",
      "\n",
      "Эпоха 66\n",
      "Эпоха: 384 итераций, 48.72 сек\n",
      "Среднее значение функции потерь на обучении 0.008188459755425962\n",
      "Среднее значение функции потерь на валидации 0.008179744009371145\n",
      "\n",
      "Эпоха 67\n",
      "Эпоха: 384 итераций, 48.71 сек\n",
      "Среднее значение функции потерь на обучении 0.008094954468106152\n",
      "Среднее значение функции потерь на валидации 0.008123283306745315\n",
      "Новая лучшая модель!\n",
      "\n",
      "Эпоха 68\n",
      "Эпоха: 384 итераций, 48.64 сек\n",
      "Среднее значение функции потерь на обучении 0.00802715653693061\n",
      "Среднее значение функции потерь на валидации 0.00811700225060824\n",
      "Новая лучшая модель!\n",
      "\n",
      "Эпоха 69\n",
      "Эпоха: 384 итераций, 48.63 сек\n",
      "Среднее значение функции потерь на обучении 0.008097410613117972\n",
      "Среднее значение функции потерь на валидации 0.008064817595710554\n",
      "Новая лучшая модель!\n",
      "\n",
      "Эпоха 70\n",
      "Эпоха: 384 итераций, 48.67 сек\n",
      "Среднее значение функции потерь на обучении 0.008072952365182573\n",
      "Среднее значение функции потерь на валидации 0.008117798100327058\n",
      "\n",
      "Эпоха 71\n",
      "Эпоха: 384 итераций, 48.72 сек\n",
      "Среднее значение функции потерь на обучении 0.008051230586715974\n",
      "Среднее значение функции потерь на валидации 0.008064840420029393\n",
      "\n",
      "Эпоха 72\n",
      "Эпоха: 384 итераций, 48.71 сек\n",
      "Среднее значение функции потерь на обучении 0.008078421413908169\n",
      "Среднее значение функции потерь на валидации 0.00805220722755657\n",
      "Новая лучшая модель!\n",
      "\n",
      "Эпоха 73\n",
      "Эпоха: 384 итераций, 48.73 сек\n",
      "Среднее значение функции потерь на обучении 0.00794136360855191\n",
      "Среднее значение функции потерь на валидации 0.008104900511368961\n",
      "\n",
      "Эпоха 74\n",
      "Эпоха: 384 итераций, 48.76 сек\n",
      "Среднее значение функции потерь на обучении 0.007886552160774348\n",
      "Среднее значение функции потерь на валидации 0.008020940372757244\n",
      "Новая лучшая модель!\n",
      "\n",
      "Эпоха 75\n",
      "Эпоха: 384 итераций, 48.74 сек\n",
      "Среднее значение функции потерь на обучении 0.007937765894742673\n",
      "Среднее значение функции потерь на валидации 0.00800190576914661\n",
      "Новая лучшая модель!\n",
      "\n",
      "Эпоха 76\n",
      "Эпоха: 384 итераций, 48.75 сек\n",
      "Среднее значение функции потерь на обучении 0.007909340295251846\n",
      "Среднее значение функции потерь на валидации 0.00804273715002997\n",
      "\n",
      "Эпоха 77\n",
      "Эпоха: 384 итераций, 48.75 сек\n",
      "Среднее значение функции потерь на обучении 0.007905510575559068\n",
      "Среднее значение функции потерь на валидации 0.008040734905620465\n",
      "\n",
      "Эпоха 78\n",
      "Эпоха: 384 итераций, 48.76 сек\n",
      "Среднее значение функции потерь на обучении 0.007903820527038382\n",
      "Среднее значение функции потерь на валидации 0.007994441301700208\n",
      "Новая лучшая модель!\n",
      "\n",
      "Эпоха 79\n",
      "Эпоха: 384 итераций, 48.69 сек\n",
      "Среднее значение функции потерь на обучении 0.007850790443626465\n",
      "Среднее значение функции потерь на валидации 0.00807936569574372\n",
      "\n",
      "Эпоха 80\n",
      "Эпоха: 384 итераций, 48.71 сек\n",
      "Среднее значение функции потерь на обучении 0.007830887214367976\n",
      "Среднее значение функции потерь на валидации 0.00802131659249858\n",
      "\n",
      "Эпоха 81\n",
      "Эпоха: 384 итераций, 48.68 сек\n",
      "Среднее значение функции потерь на обучении 0.007812339155255661\n",
      "Среднее значение функции потерь на валидации 0.008031404989836092\n",
      "Epoch    82: reducing learning rate of group 0 to 7.8125e-05.\n",
      "\n",
      "Эпоха 82\n",
      "Эпоха: 384 итераций, 48.69 сек\n",
      "Среднее значение функции потерь на обучении 0.0077703615788777824\n",
      "Среднее значение функции потерь на валидации 0.008024077106377866\n",
      "\n",
      "Эпоха 83\n",
      "Эпоха: 384 итераций, 48.70 сек\n",
      "Среднее значение функции потерь на обучении 0.0076685570493282285\n",
      "Среднее значение функции потерь на валидации 0.008052985110126509\n",
      "\n",
      "Эпоха 84\n",
      "Эпоха: 384 итераций, 48.72 сек\n",
      "Среднее значение функции потерь на обучении 0.007742704987928543\n",
      "Среднее значение функции потерь на валидации 0.007974971447711681\n",
      "Новая лучшая модель!\n",
      "\n",
      "Эпоха 85\n",
      "Эпоха: 384 итераций, 48.72 сек\n",
      "Среднее значение функции потерь на обучении 0.007624601981660817\n",
      "Среднее значение функции потерь на валидации 0.007961528889816438\n",
      "Новая лучшая модель!\n",
      "\n",
      "Эпоха 86\n",
      "Эпоха: 384 итераций, 48.69 сек\n",
      "Среднее значение функции потерь на обучении 0.007623507598812769\n",
      "Среднее значение функции потерь на валидации 0.007929601017293512\n",
      "Новая лучшая модель!\n",
      "\n",
      "Эпоха 87\n",
      "Эпоха: 384 итераций, 48.73 сек\n",
      "Среднее значение функции потерь на обучении 0.007624090823810548\n",
      "Среднее значение функции потерь на валидации 0.007969137776809016\n",
      "\n",
      "Эпоха 88\n",
      "Эпоха: 384 итераций, 48.71 сек\n",
      "Среднее значение функции потерь на обучении 0.00756498036874594\n",
      "Среднее значение функции потерь на валидации 0.007970141078631329\n",
      "\n",
      "Эпоха 89\n",
      "Эпоха: 384 итераций, 48.72 сек\n",
      "Среднее значение функции потерь на обучении 0.00764299257722693\n",
      "Среднее значение функции потерь на валидации 0.007967188975100618\n",
      "Epoch    90: reducing learning rate of group 0 to 3.9063e-05.\n",
      "\n",
      "Эпоха 90\n",
      "Эпоха: 384 итераций, 48.71 сек\n",
      "Среднее значение функции потерь на обучении 0.007619258595999175\n",
      "Среднее значение функции потерь на валидации 0.00796103163271921\n",
      "\n",
      "Эпоха 91\n",
      "Эпоха: 384 итераций, 48.71 сек\n",
      "Среднее значение функции потерь на обучении 0.007598296322006111\n",
      "Среднее значение функции потерь на валидации 0.007932433390547292\n",
      "\n",
      "Эпоха 92\n",
      "Эпоха: 384 итераций, 48.74 сек\n",
      "Среднее значение функции потерь на обучении 0.007523771428774732\n",
      "Среднее значение функции потерь на валидации 0.00791551527050831\n",
      "Новая лучшая модель!\n",
      "\n",
      "Эпоха 93\n",
      "Эпоха: 384 итераций, 48.73 сек\n",
      "Среднее значение функции потерь на обучении 0.007501644351577852\n",
      "Среднее значение функции потерь на валидации 0.00791614347294268\n",
      "\n",
      "Эпоха 94\n",
      "Эпоха: 384 итераций, 48.72 сек\n",
      "Среднее значение функции потерь на обучении 0.007502143210937599\n",
      "Среднее значение функции потерь на валидации 0.007906690896903672\n",
      "Новая лучшая модель!\n",
      "\n",
      "Эпоха 95\n",
      "Эпоха: 384 итераций, 48.72 сек\n",
      "Среднее значение функции потерь на обучении 0.0075532316356354086\n",
      "Среднее значение функции потерь на валидации 0.007913393212832732\n",
      "\n",
      "Эпоха 96\n",
      "Эпоха: 384 итераций, 48.71 сек\n",
      "Среднее значение функции потерь на обучении 0.007511144975069328\n",
      "Среднее значение функции потерь на валидации 0.007904742795992459\n",
      "Новая лучшая модель!\n",
      "\n",
      "Эпоха 97\n",
      "Эпоха: 384 итераций, 48.70 сек\n",
      "Среднее значение функции потерь на обучении 0.007465111502218254\n",
      "Среднее значение функции потерь на валидации 0.00788636398409484\n",
      "Новая лучшая модель!\n",
      "\n",
      "Эпоха 98\n",
      "Эпоха: 384 итераций, 48.73 сек\n",
      "Среднее значение функции потерь на обучении 0.00756050259709203\n",
      "Среднее значение функции потерь на валидации 0.007885199980718075\n",
      "Новая лучшая модель!\n",
      "\n",
      "Эпоха 99\n",
      "Эпоха: 384 итераций, 48.71 сек\n",
      "Среднее значение функции потерь на обучении 0.00753964393879869\n",
      "Среднее значение функции потерь на валидации 0.007891076411775286\n",
      "\n"
     ]
    }
   ],
   "source": [
    "#!g1.1\n",
    "import sys; sys.path.append('./stepik-dl-nlp')\n",
    "from dlnlputils.pipeline import train_eval_loop, predict_with_model, init_random_seed\n",
    "\n",
    "torch.backends.cudnn.benchmark=True\n",
    "torch.backends.cudnn.deterministic=False \n",
    "\n",
    "criterion_func = F.cross_entropy\n",
    "# criterion_func = nn.CrossEntropyLoss(weight=class_weights,reduction='mean').cuda()\n",
    "\n",
    "(best_val_loss,\n",
    " best_sentence_level_model) = train_eval_loop(sentence_level_model,\n",
    "                                              train_dataset,\n",
    "                                              test_dataset,\n",
    "                                              criterion_func,\n",
    "                                              lr=5e-3,\n",
    "                                              epoch_n=EPOCH_N,\n",
    "                                              batch_size=64,\n",
    "                                              device='cuda',\n",
    "                                              early_stopping_patience=5,\n",
    "                                              max_batches_per_epoch_train=500,\n",
    "                                              max_batches_per_epoch_val=100,\n",
    "                                              lr_scheduler_ctor=lambda optim: torch.optim.lr_scheduler.ReduceLROnPlateau(optim, patience=2,\n",
    "                                                                                                                         factor=0.5,\n",
    "                                                                                                                         verbose=True))"
   ]
  },
  {
   "cell_type": "code",
   "execution_count": null,
   "metadata": {
    "ExecuteTime": {
     "end_time": "2019-08-29T13:56:16.542052Z",
     "start_time": "2019-08-29T13:56:16.529110Z"
    },
    "cellId": "5r98nrn1mfp6w0l7qzrgou",
    "jupyter": {
     "source_hidden": true
    }
   },
   "outputs": [],
   "source": [
    "# Если Вы запускаете ноутбук на colab или kaggle, добавьте в начало пути ./stepik-dl-nlp\n",
    "# torch.save(best_sentence_level_model.state_dict(), './models/sentence_level_pos.pth')"
   ]
  },
  {
   "cell_type": "code",
   "execution_count": null,
   "metadata": {
    "ExecuteTime": {
     "end_time": "2019-08-29T13:56:16.564926Z",
     "start_time": "2019-08-29T13:56:16.544481Z"
    },
    "cellId": "p9vaps0ic1l86x3u4oiggd",
    "jupyter": {
     "source_hidden": true
    }
   },
   "outputs": [],
   "source": [
    "# Если Вы запускаете ноутбук на colab или kaggle, добавьте в начало пути ./stepik-dl-nlp\n",
    "# sentence_level_model.load_state_dict(torch.load('./models/sentence_level_pos.pth'))"
   ]
  },
  {
   "cell_type": "code",
   "execution_count": 1045,
   "metadata": {
    "cellId": "8e075fh07hvmhjy6qas2do"
   },
   "outputs": [],
   "source": [
    "#!g1.1\n",
    "sentence_level_model = best_sentence_level_model"
   ]
  },
  {
   "cell_type": "code",
   "execution_count": 1046,
   "metadata": {
    "ExecuteTime": {
     "end_time": "2019-08-29T13:56:42.092139Z",
     "start_time": "2019-08-29T13:56:16.567242Z"
    },
    "cellId": "nqrx2pwd46itu94x7jshz"
   },
   "outputs": [
    {
     "name": "stderr",
     "output_type": "stream",
     "text": [
      "767it [00:17, 45.02it/s]                             \n"
     ]
    },
    {
     "name": "stdout",
     "output_type": "stream",
     "text": [
      "Среднее значение функции потерь на обучении 0.0047452752478420734\n"
     ]
    },
    {
     "name": "stderr",
     "output_type": "stream",
     "text": [
      "  2%|▏         | 5/278.3125 [00:00<00:06, 42.07it/s]"
     ]
    },
    {
     "name": "stdout",
     "output_type": "stream",
     "text": [
      "              precision    recall  f1-score   support\n",
      "\n",
      "     <NOTAG>       1.00      1.00      1.00   4330443\n",
      "         ADJ       0.98      0.98      0.98     42552\n",
      "         ADP       1.00      1.00      1.00     39344\n",
      "         ADV       0.93      0.98      0.95     22448\n",
      "         AUX       0.94      0.94      0.94      3531\n",
      "       CCONJ       0.97      0.98      0.97     15168\n",
      "         DET       0.95      0.95      0.95     10780\n",
      "        INTJ       0.97      0.68      0.80        50\n",
      "        NOUN       0.99      0.99      0.99    103538\n",
      "         NUM       0.96      0.97      0.97      6764\n",
      "        PART       0.98      0.94      0.96     13540\n",
      "        PRON       0.97      0.95      0.96     18732\n",
      "       PROPN       0.97      1.00      0.99     14858\n",
      "       PUNCT       1.00      1.00      1.00     77972\n",
      "       SCONJ       0.95      0.91      0.93      8022\n",
      "         SYM       0.99      1.00      0.99       420\n",
      "        VERB       0.99      0.99      0.99     47753\n",
      "           X       0.99      0.77      0.87       189\n",
      "\n",
      "    accuracy                           1.00   4756104\n",
      "   macro avg       0.97      0.95      0.96   4756104\n",
      "weighted avg       1.00      1.00      1.00   4756104\n",
      "\n",
      "\n"
     ]
    },
    {
     "name": "stderr",
     "output_type": "stream",
     "text": [
      "279it [00:06, 45.35it/s]                              \n"
     ]
    },
    {
     "name": "stdout",
     "output_type": "stream",
     "text": [
      "Среднее значение функции потерь на валидации 0.010289125144481659\n",
      "              precision    recall  f1-score   support\n",
      "\n",
      "     <NOTAG>       1.00      1.00      1.00   1574439\n",
      "         ADJ       0.95      0.94      0.95     14793\n",
      "         ADP       1.00      1.00      1.00     13717\n",
      "         ADV       0.90      0.95      0.92      7714\n",
      "         AUX       0.92      0.91      0.92      1391\n",
      "       CCONJ       0.96      0.98      0.97      5672\n",
      "         DET       0.93      0.88      0.91      4265\n",
      "        INTJ       0.80      0.50      0.62        24\n",
      "        NOUN       0.98      0.98      0.98     36238\n",
      "         NUM       0.91      0.94      0.93      2119\n",
      "        PART       0.97      0.89      0.93      5117\n",
      "        PRON       0.95      0.94      0.95      7444\n",
      "       PROPN       0.91      0.97      0.94      5473\n",
      "       PUNCT       1.00      1.00      1.00     29186\n",
      "       SCONJ       0.91      0.88      0.90      2859\n",
      "         SYM       0.97      1.00      0.98        62\n",
      "        VERB       0.97      0.97      0.97     17117\n",
      "           X       1.00      0.71      0.83       134\n",
      "\n",
      "    accuracy                           1.00   1727764\n",
      "   macro avg       0.95      0.91      0.93   1727764\n",
      "weighted avg       1.00      1.00      1.00   1727764\n",
      "\n"
     ]
    }
   ],
   "source": [
    "#!g1.1\n",
    "UNIQUE_TAGS = list(label2id.keys())\n",
    "train_pred = predict_with_model(sentence_level_model, train_dataset)\n",
    "train_loss = F.cross_entropy(torch.tensor(train_pred),\n",
    "                             train_labels.clone().detach())\n",
    "print('Среднее значение функции потерь на обучении', float(train_loss))\n",
    "print(classification_report(train_labels.view(-1), train_pred.argmax(1).reshape(-1), target_names=UNIQUE_TAGS))\n",
    "print()\n",
    "\n",
    "test_pred = predict_with_model(sentence_level_model, test_dataset)\n",
    "test_loss = F.cross_entropy(torch.tensor(test_pred),\n",
    "                            test_labels.clone().detach())\n",
    "print('Среднее значение функции потерь на валидации', float(test_loss))\n",
    "print(classification_report(test_labels.view(-1), test_pred.argmax(1).reshape(-1), target_names=UNIQUE_TAGS))"
   ]
  },
  {
   "cell_type": "markdown",
   "metadata": {
    "cellId": "uuw6k0pj8wevchahu90ugg"
   },
   "source": [
    "## Применение полученных теггеров и сравнение"
   ]
  },
  {
   "cell_type": "code",
   "execution_count": null,
   "metadata": {},
   "outputs": [],
   "source": [
    "#!g1.1\n",
    "single_token_pos_tagger = POSTagger(sentence_level_model, char_vocab, UNIQUE_TAGS, MAX_SENT_LEN, MAX_ORIG_TOKEN_LEN, start_word_id = START_WORD_ID, end_word_id = END_WORD_ID)\n",
    "\n",
    "test_sentences = [\n",
    "    'Мама мыла раму.',\n",
    "    'Косил косой косой косой.',\n",
    "    'Глокая куздра штеко будланула бокра и куздрячит бокрёнка.',\n",
    "    'Сяпала Калуша с Калушатами по напушке.',\n",
    "    'Пирожки поставлены в печь, мама любит печь.',\n",
    "    'Ведро дало течь, вода стала течь.',\n",
    "    'Три да три, будет дырка.',\n",
    "    'Три да три, будет шесть.',\n",
    "    'Сорок сорок'\n",
    "]\n",
    "test_sentences_tokenized = tokenize_corpus(test_sentences, min_token_size=1)\n",
    "\n",
    "for sent_tokens, sent_tags in zip(test_sentences_tokenized, single_token_pos_tagger(test_sentences)):\n",
    "    print(' '.join('{}-{}'.format(tok, tag) for tok, tag in zip(sent_tokens, sent_tags)))\n",
    "    print()"
   ]
  },
  {
   "cell_type": "code",
   "execution_count": 1047,
   "metadata": {
    "cellId": "fntk3o3pt5m569uyiqdgdk"
   },
   "outputs": [
    {
     "name": "stderr",
     "output_type": "stream",
     "text": [
      "1it [00:00,  1.99it/s]                     \n"
     ]
    },
    {
     "name": "stdout",
     "output_type": "stream",
     "text": [
      "мама-NOUN мыла-NOUN раму-NOUN\n",
      "\n",
      "косил-VERB косой-NOUN косой-NOUN косой-NOUN\n",
      "\n",
      "глокая-ADJ куздра-NOUN штеко-ADV будланула-VERB бокра-NOUN и-CCONJ куздрячит-VERB бокрёнка-NOUN\n",
      "\n",
      "сяпала-VERB калуша-NOUN с-ADP калушатами-NOUN по-ADP напушке-NOUN\n",
      "\n",
      "пирожки-NOUN поставлены-VERB в-ADP печь-NOUN мама-NOUN любит-VERB печь-NOUN\n",
      "\n",
      "ведро-ADV дало-NOUN течь-NOUN вода-NOUN стала-VERB течь-NOUN\n",
      "\n",
      "три-NUM да-PART три-NUM будет-VERB дырка-NOUN\n",
      "\n",
      "три-NUM да-PART три-NUM будет-VERB шесть-NUM\n",
      "\n",
      "сорок-NUM сорок-NUM\n",
      "\n"
     ]
    }
   ],
   "source": [
    "#!g1.1\n",
    "sentence_level_pos_tagger = POSTagger(sentence_level_model, char_vocab, UNIQUE_TAGS, MAX_SENT_LEN, MAX_ORIG_TOKEN_LEN, start_word_id = START_WORD_ID, end_word_id = END_WORD_ID)\n",
    "\n",
    "test_sentences = [\n",
    "    'Мама мыла раму.',\n",
    "    'Косил косой косой косой.',\n",
    "    'Глокая куздра штеко будланула бокра и куздрячит бокрёнка.',\n",
    "    'Сяпала Калуша с Калушатами по напушке.',\n",
    "    'Пирожки поставлены в печь, мама любит печь.',\n",
    "    'Ведро дало течь, вода стала течь.',\n",
    "    'Три да три, будет дырка.',\n",
    "    'Три да три, будет шесть.',\n",
    "    'Сорок сорок'\n",
    "]\n",
    "test_sentences_tokenized = tokenize_corpus(test_sentences, min_token_size=1)\n",
    "\n",
    "for sent_tokens, sent_tags in zip(test_sentences_tokenized, sentence_level_pos_tagger(test_sentences)):\n",
    "    print(' '.join('{}-{}'.format(tok, tag) for tok, tag in zip(sent_tokens, sent_tags)))\n",
    "    print()"
   ]
  },
  {
   "cell_type": "markdown",
   "metadata": {
    "cellId": "ufj5u78t79x8g7s5iigyl",
    "jupyter": {
     "source_hidden": true
    }
   },
   "source": [
    "## Свёрточный модуль своими руками"
   ]
  },
  {
   "cell_type": "code",
   "execution_count": null,
   "metadata": {
    "ExecuteTime": {
     "end_time": "2019-08-29T13:56:42.193140Z",
     "start_time": "2019-08-29T13:56:42.170233Z"
    },
    "cellId": "zzgwdt9xebmo1etxwus0uh",
    "jupyter": {
     "source_hidden": true
    }
   },
   "outputs": [],
   "source": [
    "class MyConv1d(nn.Module):\n",
    "    def __init__(self, in_channels, out_channels, kernel_size, padding=0):\n",
    "        super().__init__()\n",
    "        self.in_channels = in_channels\n",
    "        self.out_channels = out_channels\n",
    "        self.kernel_size = kernel_size\n",
    "        self.padding = padding\n",
    "        self.weight = nn.Parameter(torch.randn(in_channels * kernel_size, out_channels) / (in_channels * kernel_size),\n",
    "                                   requires_grad=True)\n",
    "        self.bias = nn.Parameter(torch.zeros(out_channels), requires_grad=True)\n",
    "    \n",
    "    def forward(self, x):\n",
    "        \"\"\"x - BatchSize x InChannels x SequenceLen\"\"\"\n",
    "\n",
    "        batch_size, src_channels, sequence_len = x.shape        \n",
    "        if self.padding > 0:\n",
    "            pad = x.new_zeros(batch_size, src_channels, self.padding)\n",
    "            x = torch.cat((pad, x, pad), dim=-1)\n",
    "            sequence_len = x.shape[-1]\n",
    "\n",
    "        chunks = []\n",
    "        chunk_size = sequence_len - self.kernel_size + 1\n",
    "        for offset in range(self.kernel_size):\n",
    "            chunks.append(x[:, :, offset:offset + chunk_size])\n",
    "\n",
    "        in_features = torch.cat(chunks, dim=1)  # BatchSize x InChannels * KernelSize x ChunkSize\n",
    "        in_features = in_features.permute(0, 2, 1)  # BatchSize x ChunkSize x InChannels * KernelSize\n",
    "        out_features = torch.bmm(in_features, self.weight.unsqueeze(0).expand(batch_size, -1, -1)) + self.bias.unsqueeze(0).unsqueeze(0)\n",
    "        out_features = out_features.permute(0, 2, 1)  # BatchSize x OutChannels x ChunkSize\n",
    "        return out_features"
   ]
  },
  {
   "cell_type": "code",
   "execution_count": null,
   "metadata": {
    "ExecuteTime": {
     "end_time": "2019-08-29T13:56:42.210013Z",
     "start_time": "2019-08-29T13:56:42.194620Z"
    },
    "cellId": "xn38fh3coni823aqd8bkj6",
    "jupyter": {
     "source_hidden": true
    }
   },
   "outputs": [],
   "source": [
    "sentence_level_model_my_conv = SentenceLevelPOSTagger(len(char_vocab), len(label2id), embedding_size=64,\n",
    "                                                      single_backbone_kwargs=dict(layers_n=3, kernel_size=3, dropout=0.3, conv_layer=MyConv1d),\n",
    "                                                      context_backbone_kwargs=dict(layers_n=3, kernel_size=3, dropout=0.3, conv_layer=MyConv1d))\n",
    "print('Количество параметров', sum(np.product(t.shape) for t in sentence_level_model_my_conv.parameters()))"
   ]
  },
  {
   "cell_type": "code",
   "execution_count": null,
   "metadata": {
    "ExecuteTime": {
     "end_time": "2019-08-29T14:06:00.233326Z",
     "start_time": "2019-08-29T13:56:42.211456Z"
    },
    "cellId": "86q7sp6ipmg8t8rklgvw3g",
    "jupyter": {
     "source_hidden": true
    }
   },
   "outputs": [],
   "source": [
    "(best_val_loss,\n",
    " best_sentence_level_model_my_conv) = train_eval_loop(sentence_level_model_my_conv,\n",
    "                                                      train_dataset,\n",
    "                                                      test_dataset,\n",
    "                                                      F.cross_entropy,\n",
    "                                                      lr=5e-3,\n",
    "                                                      epoch_n=10,\n",
    "                                                      batch_size=64,\n",
    "                                                      device='cuda',\n",
    "                                                      early_stopping_patience=5,\n",
    "                                                      max_batches_per_epoch_train=500,\n",
    "                                                      max_batches_per_epoch_val=100,\n",
    "                                                      lr_scheduler_ctor=lambda optim: torch.optim.lr_scheduler.ReduceLROnPlateau(optim, patience=2,\n",
    "                                                                                                                                 factor=0.5,\n",
    "                                                                                                                                 verbose=True))"
   ]
  },
  {
   "cell_type": "code",
   "execution_count": null,
   "metadata": {
    "ExecuteTime": {
     "end_time": "2019-08-29T14:06:39.145214Z",
     "start_time": "2019-08-29T14:06:00.234936Z"
    },
    "cellId": "4ac0m56m8x9kq8bbs9v0u",
    "jupyter": {
     "source_hidden": true
    }
   },
   "outputs": [],
   "source": [
    "train_pred = predict_with_model(best_sentence_level_model_my_conv, train_dataset)\n",
    "train_loss = F.cross_entropy(torch.tensor(train_pred),\n",
    "                             torch.tensor(train_labels))\n",
    "print('Среднее значение функции потерь на обучении', float(train_loss))\n",
    "print(classification_report(train_labels.view(-1), train_pred.argmax(1).reshape(-1), target_names=UNIQUE_TAGS))\n",
    "print()\n",
    "\n",
    "test_pred = predict_with_model(best_sentence_level_model_my_conv, test_dataset)\n",
    "test_loss = F.cross_entropy(torch.tensor(test_pred),\n",
    "                            torch.tensor(test_labels))\n",
    "print('Среднее значение функции потерь на валидации', float(test_loss))\n",
    "print(classification_report(test_labels.view(-1), test_pred.argmax(1).reshape(-1), target_names=UNIQUE_TAGS))"
   ]
  },
  {
   "cell_type": "code",
   "execution_count": null,
   "metadata": {},
   "outputs": [],
   "source": []
  }
 ],
 "metadata": {
  "kernelspec": {
   "display_name": "Python 3 (ipykernel)",
   "language": "python",
   "name": "python3"
  },
  "language_info": {
   "codemirror_mode": {
    "name": "ipython",
    "version": 3
   },
   "file_extension": ".py",
   "mimetype": "text/x-python",
   "name": "python",
   "nbconvert_exporter": "python",
   "pygments_lexer": "ipython3",
   "version": "3.9.10"
  },
  "latex_envs": {
   "LaTeX_envs_menu_present": true,
   "autoclose": false,
   "autocomplete": true,
   "bibliofile": "biblio.bib",
   "cite_by": "apalike",
   "current_citInitial": 1,
   "eqLabelWithNumbers": true,
   "eqNumInitial": 1,
   "hotkeys": {
    "equation": "Ctrl-E",
    "itemize": "Ctrl-I"
   },
   "labels_anchors": false,
   "latex_user_defs": false,
   "report_style_numbering": false,
   "user_envs_cfg": false
  },
  "notebookId": "ac747d3d-4635-4fa3-bbe6-5ea18ab9a8f0",
  "notebookPath": "task3_cnn_postag.ipynb",
  "toc": {
   "base_numbering": 1,
   "nav_menu": {},
   "number_sections": true,
   "sideBar": true,
   "skip_h1_title": false,
   "title_cell": "Table of Contents",
   "title_sidebar": "Contents",
   "toc_cell": false,
   "toc_position": {},
   "toc_section_display": true,
   "toc_window_display": true
  }
 },
 "nbformat": 4,
 "nbformat_minor": 4
}
